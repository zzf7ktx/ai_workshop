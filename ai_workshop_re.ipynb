{
  "cells": [
    {
      "cell_type": "markdown",
      "metadata": {
        "id": "view-in-github",
        "colab_type": "text"
      },
      "source": [
        "<a href=\"https://colab.research.google.com/github/zzf7ktx/ai_workshop/blob/main/ai_workshop_re.ipynb\" target=\"_parent\"><img src=\"https://colab.research.google.com/assets/colab-badge.svg\" alt=\"Open In Colab\"/></a>"
      ]
    },
    {
      "cell_type": "markdown",
      "metadata": {
        "id": "Q3vPQolzXuic"
      },
      "source": [
        "# Data"
      ]
    },
    {
      "cell_type": "markdown",
      "source": [
        "## Download"
      ],
      "metadata": {
        "id": "EYbJCHCmReLO"
      }
    },
    {
      "cell_type": "code",
      "execution_count": 13,
      "metadata": {
        "id": "f4Rh6a2Vnz8V"
      },
      "outputs": [],
      "source": [
        "import zipfile\n",
        "import numpy as np\n",
        "import pandas as pd\n",
        "\n",
        "class MovieLens1m:\n",
        "  def __init__(self):\n",
        "    self.url = 'https://files.grouplens.org/datasets/movielens/ml-1m.zip'\n",
        "    self.__download()\n",
        "    self.__read_users()\n",
        "    self.__read_movies()\n",
        "    self.__read_ratings()\n",
        "    !rm ml-1m.zip\n",
        "    !rm -rf ml-1m\n",
        "\n",
        "  def __download(self):\n",
        "    print('Downloading')\n",
        "    zip_path = 'ml-1m.zip'\n",
        "    !wget {self.url} -O {zip_path}\n",
        "\n",
        "    print('Extracting')\n",
        "    with zipfile.ZipFile(zip_path, 'r') as zip_ref:\n",
        "      zip_ref.extractall()\n",
        "    self.base_path = 'ml-1m'\n",
        "\n",
        "  def __read_ratings(self, filename='ratings.dat'):\n",
        "    print('Reading ratings')\n",
        "    headers = ['u_nodes', 'v_nodes', 'ratings', 'timestamp']\n",
        "    dtypes = {\n",
        "      'u_nodes': np.int64, 'v_nodes': np.int64,\n",
        "      'ratings': np.float32, 'timestamp': np.float64\n",
        "    }\n",
        "    sep = r'\\:\\:'\n",
        "    file_path = self.base_path + '/' + filename\n",
        "    self.ratings_df = pd.read_csv(file_path, sep=sep, header=None,\n",
        "                                  names=headers,\n",
        "                                  converters=dtypes, engine='python',\n",
        "                                  encoding='latin-1')\n",
        "\n",
        "  def __read_users(self, filename='users.dat'):\n",
        "    print('Reading users')\n",
        "    headers = ['user_id', 'gender', 'age', 'occupation', 'zip-code']\n",
        "    sep = r'\\:\\:'\n",
        "    file_path = self.base_path + '/' + filename\n",
        "    self.users_df = pd.read_csv(file_path, sep=sep,header = None,\n",
        "                                names = headers, engine= 'python',\n",
        "                                encoding='latin-1')\n",
        "\n",
        "  def __read_movies(self, filename='movies.dat'):\n",
        "    print('Reading movies')\n",
        "    headers = ['movie_id', 'title', 'genre']\n",
        "    sep = r'\\:\\:'\n",
        "    file_path = self.base_path + '/' + filename\n",
        "    self.movies_df = pd.read_csv(file_path, sep=sep,header = None,\n",
        "                                 names = headers, engine= 'python',\n",
        "                                 encoding='latin-1')\n",
        "\n",
        "class MovieLens100k:\n",
        "  def __init__(self):\n",
        "    self.url = 'https://files.grouplens.org/datasets/movielens/ml-100k.zip'\n",
        "    self.__download()\n",
        "    self.__read_users()\n",
        "    self.__read_movies()\n",
        "    self.__read_ratings()\n",
        "    !rm ml-100k.zip\n",
        "    !rm -rf ml-100k\n",
        "\n",
        "  def __download(self):\n",
        "    print('Downloading')\n",
        "    zip_path = 'ml-100k.zip'\n",
        "    !wget {self.url} -O {zip_path}\n",
        "\n",
        "    print('Extracting')\n",
        "    with zipfile.ZipFile(zip_path, 'r') as zip_ref:\n",
        "      zip_ref.extractall()\n",
        "    self.base_path = 'ml-100k'\n",
        "\n",
        "  def __read_ratings(self, filename='u.data'):\n",
        "    print('Reading ratings')\n",
        "    headers = ['u_nodes', 'v_nodes', 'ratings', 'timestamp']\n",
        "    dtypes = {\n",
        "      'u_nodes': np.int64, 'v_nodes': np.int64,\n",
        "      'ratings': np.float32, 'timestamp': np.float64\n",
        "    }\n",
        "    sep = r'\\t'\n",
        "    file_path = self.base_path + '/' + filename\n",
        "    self.ratings_df = pd.read_csv(file_path, sep=sep, header=None,\n",
        "                                  names=headers,\n",
        "                                  converters=dtypes, engine='python',\n",
        "                                  encoding='latin-1')\n",
        "\n",
        "  def __read_users(self, filename='u.user'):\n",
        "    print('Reading users')\n",
        "    headers = ['user_id', 'age', 'gender', 'occupation', 'zip-code']\n",
        "    sep = r'|'\n",
        "    file_path = self.base_path + '/' + filename\n",
        "    self.users_df = pd.read_csv(file_path, sep=sep,header = None,\n",
        "                                names = headers, engine= 'python',\n",
        "                                encoding='latin-1')\n",
        "\n",
        "  def __read_movies(self, filename='u.item'):\n",
        "    print('Reading movies')\n",
        "    headers = ['movie_id', 'title', 'release date', 'video release date',\n",
        "               'IMDb URL', 'unknown', 'Action', 'Adventure', 'Animation',\n",
        "               'Childrens', 'Comedy', 'Crime', 'Documentary', 'Drama', 'Fantasy',\n",
        "               'Film-Noir', 'Horror', 'Musical', 'Mystery', 'Romance', 'Sci-Fi',\n",
        "               'Thriller', 'War', 'Western']\n",
        "    sep = r'|'\n",
        "    file_path = self.base_path + '/' + filename\n",
        "    self.movies_df = pd.read_csv(file_path, sep=sep,header = None,\n",
        "                                 names = headers, engine= 'python',\n",
        "                                 encoding='latin-1')"
      ]
    },
    {
      "cell_type": "code",
      "execution_count": 14,
      "metadata": {
        "colab": {
          "base_uri": "https://localhost:8080/"
        },
        "id": "6oMyLRnzeBjZ",
        "outputId": "5798ad54-4d11-4b81-a6b5-6baf8248ab33"
      },
      "outputs": [
        {
          "output_type": "stream",
          "name": "stdout",
          "text": [
            "Downloading\n",
            "--2025-07-10 01:27:48--  https://files.grouplens.org/datasets/movielens/ml-100k.zip\n",
            "Resolving files.grouplens.org (files.grouplens.org)... 128.101.65.152\n",
            "Connecting to files.grouplens.org (files.grouplens.org)|128.101.65.152|:443... connected.\n",
            "HTTP request sent, awaiting response... 200 OK\n",
            "Length: 4924029 (4.7M) [application/zip]\n",
            "Saving to: ‘ml-100k.zip’\n",
            "\n",
            "ml-100k.zip         100%[===================>]   4.70M  14.4MB/s    in 0.3s    \n",
            "\n",
            "2025-07-10 01:27:48 (14.4 MB/s) - ‘ml-100k.zip’ saved [4924029/4924029]\n",
            "\n",
            "Extracting\n",
            "Reading users\n",
            "Reading movies\n",
            "Reading ratings\n"
          ]
        }
      ],
      "source": [
        "dataset = MovieLens100k()"
      ]
    },
    {
      "cell_type": "markdown",
      "source": [
        "## Analysis"
      ],
      "metadata": {
        "id": "RnSUj2bgRhGl"
      }
    },
    {
      "cell_type": "code",
      "source": [
        "dataset.movies_df.head()"
      ],
      "metadata": {
        "colab": {
          "base_uri": "https://localhost:8080/",
          "height": 394
        },
        "id": "u0syf8jvRi4d",
        "outputId": "a72afca8-8953-4851-db70-646c1bf368c0"
      },
      "execution_count": 38,
      "outputs": [
        {
          "output_type": "execute_result",
          "data": {
            "text/plain": [
              "   movie_id              title release date  video release date  \\\n",
              "0         1   Toy Story (1995)  01-Jan-1995                 NaN   \n",
              "1         2   GoldenEye (1995)  01-Jan-1995                 NaN   \n",
              "2         3  Four Rooms (1995)  01-Jan-1995                 NaN   \n",
              "3         4  Get Shorty (1995)  01-Jan-1995                 NaN   \n",
              "4         5     Copycat (1995)  01-Jan-1995                 NaN   \n",
              "\n",
              "                                            IMDb URL  unknown  Action  \\\n",
              "0  http://us.imdb.com/M/title-exact?Toy%20Story%2...        0       0   \n",
              "1  http://us.imdb.com/M/title-exact?GoldenEye%20(...        0       1   \n",
              "2  http://us.imdb.com/M/title-exact?Four%20Rooms%...        0       0   \n",
              "3  http://us.imdb.com/M/title-exact?Get%20Shorty%...        0       1   \n",
              "4  http://us.imdb.com/M/title-exact?Copycat%20(1995)        0       0   \n",
              "\n",
              "   Adventure  Animation  Childrens  ...  Fantasy  Film-Noir  Horror  Musical  \\\n",
              "0          0          1          1  ...        0          0       0        0   \n",
              "1          1          0          0  ...        0          0       0        0   \n",
              "2          0          0          0  ...        0          0       0        0   \n",
              "3          0          0          0  ...        0          0       0        0   \n",
              "4          0          0          0  ...        0          0       0        0   \n",
              "\n",
              "   Mystery  Romance  Sci-Fi  Thriller  War  Western  \n",
              "0        0        0       0         0    0        0  \n",
              "1        0        0       0         1    0        0  \n",
              "2        0        0       0         1    0        0  \n",
              "3        0        0       0         0    0        0  \n",
              "4        0        0       0         1    0        0  \n",
              "\n",
              "[5 rows x 24 columns]"
            ],
            "text/html": [
              "\n",
              "  <div id=\"df-2868b908-0951-4967-b031-8dea5dbd7f85\" class=\"colab-df-container\">\n",
              "    <div>\n",
              "<style scoped>\n",
              "    .dataframe tbody tr th:only-of-type {\n",
              "        vertical-align: middle;\n",
              "    }\n",
              "\n",
              "    .dataframe tbody tr th {\n",
              "        vertical-align: top;\n",
              "    }\n",
              "\n",
              "    .dataframe thead th {\n",
              "        text-align: right;\n",
              "    }\n",
              "</style>\n",
              "<table border=\"1\" class=\"dataframe\">\n",
              "  <thead>\n",
              "    <tr style=\"text-align: right;\">\n",
              "      <th></th>\n",
              "      <th>movie_id</th>\n",
              "      <th>title</th>\n",
              "      <th>release date</th>\n",
              "      <th>video release date</th>\n",
              "      <th>IMDb URL</th>\n",
              "      <th>unknown</th>\n",
              "      <th>Action</th>\n",
              "      <th>Adventure</th>\n",
              "      <th>Animation</th>\n",
              "      <th>Childrens</th>\n",
              "      <th>...</th>\n",
              "      <th>Fantasy</th>\n",
              "      <th>Film-Noir</th>\n",
              "      <th>Horror</th>\n",
              "      <th>Musical</th>\n",
              "      <th>Mystery</th>\n",
              "      <th>Romance</th>\n",
              "      <th>Sci-Fi</th>\n",
              "      <th>Thriller</th>\n",
              "      <th>War</th>\n",
              "      <th>Western</th>\n",
              "    </tr>\n",
              "  </thead>\n",
              "  <tbody>\n",
              "    <tr>\n",
              "      <th>0</th>\n",
              "      <td>1</td>\n",
              "      <td>Toy Story (1995)</td>\n",
              "      <td>01-Jan-1995</td>\n",
              "      <td>NaN</td>\n",
              "      <td>http://us.imdb.com/M/title-exact?Toy%20Story%2...</td>\n",
              "      <td>0</td>\n",
              "      <td>0</td>\n",
              "      <td>0</td>\n",
              "      <td>1</td>\n",
              "      <td>1</td>\n",
              "      <td>...</td>\n",
              "      <td>0</td>\n",
              "      <td>0</td>\n",
              "      <td>0</td>\n",
              "      <td>0</td>\n",
              "      <td>0</td>\n",
              "      <td>0</td>\n",
              "      <td>0</td>\n",
              "      <td>0</td>\n",
              "      <td>0</td>\n",
              "      <td>0</td>\n",
              "    </tr>\n",
              "    <tr>\n",
              "      <th>1</th>\n",
              "      <td>2</td>\n",
              "      <td>GoldenEye (1995)</td>\n",
              "      <td>01-Jan-1995</td>\n",
              "      <td>NaN</td>\n",
              "      <td>http://us.imdb.com/M/title-exact?GoldenEye%20(...</td>\n",
              "      <td>0</td>\n",
              "      <td>1</td>\n",
              "      <td>1</td>\n",
              "      <td>0</td>\n",
              "      <td>0</td>\n",
              "      <td>...</td>\n",
              "      <td>0</td>\n",
              "      <td>0</td>\n",
              "      <td>0</td>\n",
              "      <td>0</td>\n",
              "      <td>0</td>\n",
              "      <td>0</td>\n",
              "      <td>0</td>\n",
              "      <td>1</td>\n",
              "      <td>0</td>\n",
              "      <td>0</td>\n",
              "    </tr>\n",
              "    <tr>\n",
              "      <th>2</th>\n",
              "      <td>3</td>\n",
              "      <td>Four Rooms (1995)</td>\n",
              "      <td>01-Jan-1995</td>\n",
              "      <td>NaN</td>\n",
              "      <td>http://us.imdb.com/M/title-exact?Four%20Rooms%...</td>\n",
              "      <td>0</td>\n",
              "      <td>0</td>\n",
              "      <td>0</td>\n",
              "      <td>0</td>\n",
              "      <td>0</td>\n",
              "      <td>...</td>\n",
              "      <td>0</td>\n",
              "      <td>0</td>\n",
              "      <td>0</td>\n",
              "      <td>0</td>\n",
              "      <td>0</td>\n",
              "      <td>0</td>\n",
              "      <td>0</td>\n",
              "      <td>1</td>\n",
              "      <td>0</td>\n",
              "      <td>0</td>\n",
              "    </tr>\n",
              "    <tr>\n",
              "      <th>3</th>\n",
              "      <td>4</td>\n",
              "      <td>Get Shorty (1995)</td>\n",
              "      <td>01-Jan-1995</td>\n",
              "      <td>NaN</td>\n",
              "      <td>http://us.imdb.com/M/title-exact?Get%20Shorty%...</td>\n",
              "      <td>0</td>\n",
              "      <td>1</td>\n",
              "      <td>0</td>\n",
              "      <td>0</td>\n",
              "      <td>0</td>\n",
              "      <td>...</td>\n",
              "      <td>0</td>\n",
              "      <td>0</td>\n",
              "      <td>0</td>\n",
              "      <td>0</td>\n",
              "      <td>0</td>\n",
              "      <td>0</td>\n",
              "      <td>0</td>\n",
              "      <td>0</td>\n",
              "      <td>0</td>\n",
              "      <td>0</td>\n",
              "    </tr>\n",
              "    <tr>\n",
              "      <th>4</th>\n",
              "      <td>5</td>\n",
              "      <td>Copycat (1995)</td>\n",
              "      <td>01-Jan-1995</td>\n",
              "      <td>NaN</td>\n",
              "      <td>http://us.imdb.com/M/title-exact?Copycat%20(1995)</td>\n",
              "      <td>0</td>\n",
              "      <td>0</td>\n",
              "      <td>0</td>\n",
              "      <td>0</td>\n",
              "      <td>0</td>\n",
              "      <td>...</td>\n",
              "      <td>0</td>\n",
              "      <td>0</td>\n",
              "      <td>0</td>\n",
              "      <td>0</td>\n",
              "      <td>0</td>\n",
              "      <td>0</td>\n",
              "      <td>0</td>\n",
              "      <td>1</td>\n",
              "      <td>0</td>\n",
              "      <td>0</td>\n",
              "    </tr>\n",
              "  </tbody>\n",
              "</table>\n",
              "<p>5 rows × 24 columns</p>\n",
              "</div>\n",
              "    <div class=\"colab-df-buttons\">\n",
              "\n",
              "  <div class=\"colab-df-container\">\n",
              "    <button class=\"colab-df-convert\" onclick=\"convertToInteractive('df-2868b908-0951-4967-b031-8dea5dbd7f85')\"\n",
              "            title=\"Convert this dataframe to an interactive table.\"\n",
              "            style=\"display:none;\">\n",
              "\n",
              "  <svg xmlns=\"http://www.w3.org/2000/svg\" height=\"24px\" viewBox=\"0 -960 960 960\">\n",
              "    <path d=\"M120-120v-720h720v720H120Zm60-500h600v-160H180v160Zm220 220h160v-160H400v160Zm0 220h160v-160H400v160ZM180-400h160v-160H180v160Zm440 0h160v-160H620v160ZM180-180h160v-160H180v160Zm440 0h160v-160H620v160Z\"/>\n",
              "  </svg>\n",
              "    </button>\n",
              "\n",
              "  <style>\n",
              "    .colab-df-container {\n",
              "      display:flex;\n",
              "      gap: 12px;\n",
              "    }\n",
              "\n",
              "    .colab-df-convert {\n",
              "      background-color: #E8F0FE;\n",
              "      border: none;\n",
              "      border-radius: 50%;\n",
              "      cursor: pointer;\n",
              "      display: none;\n",
              "      fill: #1967D2;\n",
              "      height: 32px;\n",
              "      padding: 0 0 0 0;\n",
              "      width: 32px;\n",
              "    }\n",
              "\n",
              "    .colab-df-convert:hover {\n",
              "      background-color: #E2EBFA;\n",
              "      box-shadow: 0px 1px 2px rgba(60, 64, 67, 0.3), 0px 1px 3px 1px rgba(60, 64, 67, 0.15);\n",
              "      fill: #174EA6;\n",
              "    }\n",
              "\n",
              "    .colab-df-buttons div {\n",
              "      margin-bottom: 4px;\n",
              "    }\n",
              "\n",
              "    [theme=dark] .colab-df-convert {\n",
              "      background-color: #3B4455;\n",
              "      fill: #D2E3FC;\n",
              "    }\n",
              "\n",
              "    [theme=dark] .colab-df-convert:hover {\n",
              "      background-color: #434B5C;\n",
              "      box-shadow: 0px 1px 3px 1px rgba(0, 0, 0, 0.15);\n",
              "      filter: drop-shadow(0px 1px 2px rgba(0, 0, 0, 0.3));\n",
              "      fill: #FFFFFF;\n",
              "    }\n",
              "  </style>\n",
              "\n",
              "    <script>\n",
              "      const buttonEl =\n",
              "        document.querySelector('#df-2868b908-0951-4967-b031-8dea5dbd7f85 button.colab-df-convert');\n",
              "      buttonEl.style.display =\n",
              "        google.colab.kernel.accessAllowed ? 'block' : 'none';\n",
              "\n",
              "      async function convertToInteractive(key) {\n",
              "        const element = document.querySelector('#df-2868b908-0951-4967-b031-8dea5dbd7f85');\n",
              "        const dataTable =\n",
              "          await google.colab.kernel.invokeFunction('convertToInteractive',\n",
              "                                                    [key], {});\n",
              "        if (!dataTable) return;\n",
              "\n",
              "        const docLinkHtml = 'Like what you see? Visit the ' +\n",
              "          '<a target=\"_blank\" href=https://colab.research.google.com/notebooks/data_table.ipynb>data table notebook</a>'\n",
              "          + ' to learn more about interactive tables.';\n",
              "        element.innerHTML = '';\n",
              "        dataTable['output_type'] = 'display_data';\n",
              "        await google.colab.output.renderOutput(dataTable, element);\n",
              "        const docLink = document.createElement('div');\n",
              "        docLink.innerHTML = docLinkHtml;\n",
              "        element.appendChild(docLink);\n",
              "      }\n",
              "    </script>\n",
              "  </div>\n",
              "\n",
              "\n",
              "    <div id=\"df-f7390c50-baca-424e-8ee0-fa7020e01556\">\n",
              "      <button class=\"colab-df-quickchart\" onclick=\"quickchart('df-f7390c50-baca-424e-8ee0-fa7020e01556')\"\n",
              "                title=\"Suggest charts\"\n",
              "                style=\"display:none;\">\n",
              "\n",
              "<svg xmlns=\"http://www.w3.org/2000/svg\" height=\"24px\"viewBox=\"0 0 24 24\"\n",
              "     width=\"24px\">\n",
              "    <g>\n",
              "        <path d=\"M19 3H5c-1.1 0-2 .9-2 2v14c0 1.1.9 2 2 2h14c1.1 0 2-.9 2-2V5c0-1.1-.9-2-2-2zM9 17H7v-7h2v7zm4 0h-2V7h2v10zm4 0h-2v-4h2v4z\"/>\n",
              "    </g>\n",
              "</svg>\n",
              "      </button>\n",
              "\n",
              "<style>\n",
              "  .colab-df-quickchart {\n",
              "      --bg-color: #E8F0FE;\n",
              "      --fill-color: #1967D2;\n",
              "      --hover-bg-color: #E2EBFA;\n",
              "      --hover-fill-color: #174EA6;\n",
              "      --disabled-fill-color: #AAA;\n",
              "      --disabled-bg-color: #DDD;\n",
              "  }\n",
              "\n",
              "  [theme=dark] .colab-df-quickchart {\n",
              "      --bg-color: #3B4455;\n",
              "      --fill-color: #D2E3FC;\n",
              "      --hover-bg-color: #434B5C;\n",
              "      --hover-fill-color: #FFFFFF;\n",
              "      --disabled-bg-color: #3B4455;\n",
              "      --disabled-fill-color: #666;\n",
              "  }\n",
              "\n",
              "  .colab-df-quickchart {\n",
              "    background-color: var(--bg-color);\n",
              "    border: none;\n",
              "    border-radius: 50%;\n",
              "    cursor: pointer;\n",
              "    display: none;\n",
              "    fill: var(--fill-color);\n",
              "    height: 32px;\n",
              "    padding: 0;\n",
              "    width: 32px;\n",
              "  }\n",
              "\n",
              "  .colab-df-quickchart:hover {\n",
              "    background-color: var(--hover-bg-color);\n",
              "    box-shadow: 0 1px 2px rgba(60, 64, 67, 0.3), 0 1px 3px 1px rgba(60, 64, 67, 0.15);\n",
              "    fill: var(--button-hover-fill-color);\n",
              "  }\n",
              "\n",
              "  .colab-df-quickchart-complete:disabled,\n",
              "  .colab-df-quickchart-complete:disabled:hover {\n",
              "    background-color: var(--disabled-bg-color);\n",
              "    fill: var(--disabled-fill-color);\n",
              "    box-shadow: none;\n",
              "  }\n",
              "\n",
              "  .colab-df-spinner {\n",
              "    border: 2px solid var(--fill-color);\n",
              "    border-color: transparent;\n",
              "    border-bottom-color: var(--fill-color);\n",
              "    animation:\n",
              "      spin 1s steps(1) infinite;\n",
              "  }\n",
              "\n",
              "  @keyframes spin {\n",
              "    0% {\n",
              "      border-color: transparent;\n",
              "      border-bottom-color: var(--fill-color);\n",
              "      border-left-color: var(--fill-color);\n",
              "    }\n",
              "    20% {\n",
              "      border-color: transparent;\n",
              "      border-left-color: var(--fill-color);\n",
              "      border-top-color: var(--fill-color);\n",
              "    }\n",
              "    30% {\n",
              "      border-color: transparent;\n",
              "      border-left-color: var(--fill-color);\n",
              "      border-top-color: var(--fill-color);\n",
              "      border-right-color: var(--fill-color);\n",
              "    }\n",
              "    40% {\n",
              "      border-color: transparent;\n",
              "      border-right-color: var(--fill-color);\n",
              "      border-top-color: var(--fill-color);\n",
              "    }\n",
              "    60% {\n",
              "      border-color: transparent;\n",
              "      border-right-color: var(--fill-color);\n",
              "    }\n",
              "    80% {\n",
              "      border-color: transparent;\n",
              "      border-right-color: var(--fill-color);\n",
              "      border-bottom-color: var(--fill-color);\n",
              "    }\n",
              "    90% {\n",
              "      border-color: transparent;\n",
              "      border-bottom-color: var(--fill-color);\n",
              "    }\n",
              "  }\n",
              "</style>\n",
              "\n",
              "      <script>\n",
              "        async function quickchart(key) {\n",
              "          const quickchartButtonEl =\n",
              "            document.querySelector('#' + key + ' button');\n",
              "          quickchartButtonEl.disabled = true;  // To prevent multiple clicks.\n",
              "          quickchartButtonEl.classList.add('colab-df-spinner');\n",
              "          try {\n",
              "            const charts = await google.colab.kernel.invokeFunction(\n",
              "                'suggestCharts', [key], {});\n",
              "          } catch (error) {\n",
              "            console.error('Error during call to suggestCharts:', error);\n",
              "          }\n",
              "          quickchartButtonEl.classList.remove('colab-df-spinner');\n",
              "          quickchartButtonEl.classList.add('colab-df-quickchart-complete');\n",
              "        }\n",
              "        (() => {\n",
              "          let quickchartButtonEl =\n",
              "            document.querySelector('#df-f7390c50-baca-424e-8ee0-fa7020e01556 button');\n",
              "          quickchartButtonEl.style.display =\n",
              "            google.colab.kernel.accessAllowed ? 'block' : 'none';\n",
              "        })();\n",
              "      </script>\n",
              "    </div>\n",
              "\n",
              "    </div>\n",
              "  </div>\n"
            ],
            "application/vnd.google.colaboratory.intrinsic+json": {
              "type": "dataframe"
            }
          },
          "metadata": {},
          "execution_count": 38
        }
      ]
    },
    {
      "cell_type": "code",
      "source": [
        "dataset.ratings_df.isna().sum()"
      ],
      "metadata": {
        "colab": {
          "base_uri": "https://localhost:8080/",
          "height": 209
        },
        "id": "KiznwqdXRk4E",
        "outputId": "dbd0f50f-bf03-4d78-88fc-a511bb7eab38"
      },
      "execution_count": 43,
      "outputs": [
        {
          "output_type": "execute_result",
          "data": {
            "text/plain": [
              "u_nodes      0\n",
              "v_nodes      0\n",
              "ratings      0\n",
              "timestamp    0\n",
              "dtype: int64"
            ],
            "text/html": [
              "<div>\n",
              "<style scoped>\n",
              "    .dataframe tbody tr th:only-of-type {\n",
              "        vertical-align: middle;\n",
              "    }\n",
              "\n",
              "    .dataframe tbody tr th {\n",
              "        vertical-align: top;\n",
              "    }\n",
              "\n",
              "    .dataframe thead th {\n",
              "        text-align: right;\n",
              "    }\n",
              "</style>\n",
              "<table border=\"1\" class=\"dataframe\">\n",
              "  <thead>\n",
              "    <tr style=\"text-align: right;\">\n",
              "      <th></th>\n",
              "      <th>0</th>\n",
              "    </tr>\n",
              "  </thead>\n",
              "  <tbody>\n",
              "    <tr>\n",
              "      <th>u_nodes</th>\n",
              "      <td>0</td>\n",
              "    </tr>\n",
              "    <tr>\n",
              "      <th>v_nodes</th>\n",
              "      <td>0</td>\n",
              "    </tr>\n",
              "    <tr>\n",
              "      <th>ratings</th>\n",
              "      <td>0</td>\n",
              "    </tr>\n",
              "    <tr>\n",
              "      <th>timestamp</th>\n",
              "      <td>0</td>\n",
              "    </tr>\n",
              "  </tbody>\n",
              "</table>\n",
              "</div><br><label><b>dtype:</b> int64</label>"
            ]
          },
          "metadata": {},
          "execution_count": 43
        }
      ]
    },
    {
      "cell_type": "code",
      "source": [
        "import matplotlib.pyplot as plt\n",
        "\n",
        "plt.figure(figsize=(10, 6))\n",
        "dataset.ratings_df['ratings'].value_counts().sort_index().plot(kind='bar')\n",
        "plt.title('Distribution of Movie Ratings')\n",
        "plt.xlabel('Rating')\n",
        "plt.ylabel('Number of Ratings')\n",
        "plt.xticks(rotation=0)\n",
        "plt.grid(axis='y', linestyle='--', alpha=0.7)\n",
        "plt.show()"
      ],
      "metadata": {
        "colab": {
          "base_uri": "https://localhost:8080/",
          "height": 564
        },
        "id": "lh_JAk2uRn0d",
        "outputId": "89477b2b-151e-4c53-b9c4-4e085cefe4da"
      },
      "execution_count": 44,
      "outputs": [
        {
          "output_type": "display_data",
          "data": {
            "text/plain": [
              "<Figure size 1000x600 with 1 Axes>"
            ],
            "image/png": "[encoded data removed]"
          },
          "metadata": {}
        }
      ]
    },
    {
      "cell_type": "code",
      "source": [
        "import matplotlib.pyplot as plt\n",
        "\n",
        "plt.figure(figsize=(10, 6))\n",
        "dataset.ratings_df['v_nodes'].value_counts().plot(kind='hist', bins=50)\n",
        "plt.title('Distribution of Number of Ratings per Movie')\n",
        "plt.xlabel('Number of Ratings')\n",
        "plt.ylabel('Number of Movies')\n",
        "plt.grid(axis='y', linestyle='--', alpha=0.7)\n",
        "plt.show()"
      ],
      "metadata": {
        "colab": {
          "base_uri": "https://localhost:8080/",
          "height": 564
        },
        "id": "MMOHAR18Rtu0",
        "outputId": "98c2e40e-b556-45b5-e1bc-4f932bfba9e8"
      },
      "execution_count": 45,
      "outputs": [
        {
          "output_type": "display_data",
          "data": {
            "text/plain": [
              "<Figure size 1000x600 with 1 Axes>"
            ],
            "image/png": "[encoded data removed]"
          },
          "metadata": {}
        }
      ]
    },
    {
      "cell_type": "code",
      "source": [
        "import pandas as pd\n",
        "import matplotlib.pyplot as plt\n",
        "# Merge the dataframes\n",
        "merged_df = pd.merge(dataset.ratings_df, dataset.users_df, left_on='u_nodes', right_on='user_id')\n",
        "merged_df = pd.merge(merged_df, dataset.movies_df, left_on='v_nodes', right_on='movie_id')\n",
        "\n",
        "# Drop redundant columns\n",
        "merged_df = merged_df.drop(['u_nodes', 'v_nodes', 'timestamp', 'user_id', 'movie_id'], axis=1)\n",
        "\n",
        "# Explore relationships between features and ratings\n",
        "plt.figure(figsize=(6, 4))\n",
        "merged_df.groupby('gender')['ratings'].mean().plot(kind='bar')\n",
        "plt.title('Average Rating by Gender')\n",
        "plt.xlabel('Gender')\n",
        "plt.ylabel('Average Rating')\n",
        "plt.xticks(rotation=0)\n",
        "plt.grid(axis='y', linestyle='--', alpha=0.7)\n",
        "plt.show()\n",
        "\n",
        "plt.figure(figsize=(10, 6))\n",
        "merged_df.groupby('age')['ratings'].mean().plot(kind='bar')\n",
        "plt.title('Average Rating by Age')\n",
        "plt.xlabel('Age')\n",
        "plt.ylabel('Average Rating')\n",
        "plt.grid(axis='y', linestyle='--', alpha=0.7)\n",
        "plt.show()\n",
        "\n",
        "plt.figure(figsize=(12, 6))\n",
        "merged_df.groupby('occupation')['ratings'].mean().sort_values(ascending=False).head(15).plot(kind='bar')\n",
        "plt.title('Average Rating by Occupation (Top 15)')\n",
        "plt.xlabel('Occupation')\n",
        "plt.ylabel('Average Rating')\n",
        "plt.xticks(rotation=45, ha='right')\n",
        "plt.grid(axis='y', linestyle='--', alpha=0.7)\n",
        "plt.tight_layout()\n",
        "plt.show()\n",
        "\n",
        "# Get genre columns from the original movies_df\n",
        "genre_cols = dataset.movies_df.columns[6:]\n",
        "\n",
        "# Melt the genre columns to have one row per genre per movie\n",
        "genre_ratings = merged_df.melt(id_vars=['ratings', 'age', 'gender', 'occupation', 'zip-code'],\n",
        "                               value_vars=genre_cols, var_name='genre', value_name='is_genre')\n",
        "\n",
        "# Filter out rows where the movie does not belong to the genre\n",
        "genre_ratings = genre_ratings[genre_ratings['is_genre'] == 1]\n",
        "\n",
        "plt.figure(figsize=(14, 6))\n",
        "genre_ratings.groupby('genre')['ratings'].mean().sort_values(ascending=False).plot(kind='bar')\n",
        "plt.title('Average Rating by Genre')\n",
        "plt.xlabel('Genre')\n",
        "plt.ylabel('Average Rating')\n",
        "plt.xticks(rotation=45, ha='right')\n",
        "plt.grid(axis='y', linestyle='--', alpha=0.7)\n",
        "plt.tight_layout()\n",
        "plt.show()\n",
        "\n",
        "plt.figure(figsize=(12, 6))\n",
        "merged_df['zip-code'].value_counts().head(20).plot(kind='bar')\n",
        "plt.title('Number of Ratings by Zip Code (Top 20)')\n",
        "plt.xlabel('Zip Code')\n",
        "plt.ylabel('Number of Ratings')\n",
        "plt.xticks(rotation=45, ha='right')\n",
        "plt.grid(axis='y', linestyle='--', alpha=0.7)\n",
        "plt.tight_layout()\n",
        "plt.show()\n",
        "\n",
        "\n",
        "age_group = 25\n",
        "\n",
        "age_group_genres = genre_ratings[genre_ratings['age'] == age_group]\n",
        "\n",
        "plt.figure(figsize=(12, 6))\n",
        "age_group_genres['genre'].value_counts().head(10).plot(kind='bar')\n",
        "plt.title(f'Top 10 Genres Rated by Age Group {age_group}')\n",
        "plt.xlabel('Genre')\n",
        "plt.ylabel('Number of Ratings')\n",
        "plt.xticks(rotation=45, ha='right')\n",
        "plt.grid(axis='y', linestyle='--', alpha=0.7)\n",
        "plt.tight_layout()\n",
        "plt.show()\n",
        "\n",
        "specific_genre = 'Comedy'\n",
        "genre_age_ratings = genre_ratings[genre_ratings['genre'] == specific_genre].groupby('age')['ratings'].mean()\n",
        "\n",
        "plt.figure(figsize=(10, 6))\n",
        "genre_age_ratings.plot(kind='bar')\n",
        "plt.title(f'Average Rating for {specific_genre} by Age')\n",
        "plt.xlabel('Age')\n",
        "plt.ylabel('Average Rating')\n",
        "plt.grid(axis='y', linestyle='--', alpha=0.7)\n",
        "plt.show()"
      ],
      "metadata": {
        "colab": {
          "base_uri": "https://localhost:8080/",
          "height": 1000
        },
        "id": "TGoZBa-JR3Z2",
        "outputId": "cb4414ae-1ce6-4143-9686-7b2952dc3170"
      },
      "execution_count": 48,
      "outputs": [
        {
          "output_type": "display_data",
          "data": {
            "text/plain": [
              "<Figure size 600x400 with 1 Axes>"
            ],
            "image/png": "[encoded data removed]"
          },
          "metadata": {}
        },
        {
          "output_type": "display_data",
          "data": {
            "text/plain": [
              "<Figure size 1000x600 with 1 Axes>"
            ],
            "image/png": "[encoded data removed]"
          },
          "metadata": {}
        },
        {
          "output_type": "display_data",
          "data": {
            "text/plain": [
              "<Figure size 1200x600 with 1 Axes>"
            ],
            "image/png": "[encoded data removed]"
          },
          "metadata": {}
        },
        {
          "output_type": "display_data",
          "data": {
            "text/plain": [
              "<Figure size 1400x600 with 1 Axes>"
            ],
            "image/png": "[encoded data removed]"
          },
          "metadata": {}
        },
        {
          "output_type": "display_data",
          "data": {
            "text/plain": [
              "<Figure size 1200x600 with 1 Axes>"
            ],
            "image/png": "[encoded data removed]"
          },
          "metadata": {}
        },
        {
          "output_type": "display_data",
          "data": {
            "text/plain": [
              "<Figure size 1200x600 with 1 Axes>"
            ],
            "image/png": "[encoded data removed]"
          },
          "metadata": {}
        },
        {
          "output_type": "display_data",
          "data": {
            "text/plain": [
              "<Figure size 1000x600 with 1 Axes>"
            ],
            "image/png": "[encoded data removed]"
          },
          "metadata": {}
        }
      ]
    },
    {
      "cell_type": "markdown",
      "metadata": {
        "id": "W-NB-m6-pZJ6"
      },
      "source": [
        "# Model"
      ]
    },
    {
      "cell_type": "markdown",
      "source": [
        "## MF"
      ],
      "metadata": {
        "id": "lGTqTBYsSJng"
      }
    },
    {
      "cell_type": "code",
      "source": [
        "from sklearn.model_selection import train_test_split\n",
        "\n",
        "train_df, test_df = train_test_split(dataset.ratings_df, test_size=0.1, random_state=42)"
      ],
      "metadata": {
        "id": "P4qcpTpEWJhY"
      },
      "execution_count": 15,
      "outputs": []
    },
    {
      "cell_type": "code",
      "source": [
        "# Calculate the mean rating for each movie in the training data\n",
        "movie_mean_ratings = train_df.groupby('v_nodes')['ratings'].mean()\n",
        "user_item_matrix = train_df.pivot_table(index='u_nodes', columns='v_nodes', values='ratings')\n",
        "user_item_matrix = user_item_matrix.fillna(movie_mean_ratings)\n",
        "user_item_matrix = user_item_matrix.fillna(0)"
      ],
      "metadata": {
        "id": "ON2THkn8U5_1"
      },
      "execution_count": 16,
      "outputs": []
    },
    {
      "cell_type": "code",
      "source": [
        "import numpy as np\n",
        "from sklearn.decomposition import NMF\n",
        "\n",
        "nmf = NMF(n_components=10, init='random', random_state=12)\n",
        "W = nmf.fit_transform(user_item_matrix)\n",
        "H = nmf.components_"
      ],
      "metadata": {
        "colab": {
          "base_uri": "https://localhost:8080/"
        },
        "id": "nOugR5ARSLyp",
        "outputId": "8f47d904-1460-41d9-def8-5f32db5ac73f"
      },
      "execution_count": 17,
      "outputs": [
        {
          "output_type": "stream",
          "name": "stderr",
          "text": [
            "/usr/local/lib/python3.11/dist-packages/sklearn/decomposition/_nmf.py:1742: ConvergenceWarning: Maximum number of iterations 200 reached. Increase it to improve convergence.\n",
            "  warnings.warn(\n"
          ]
        }
      ]
    },
    {
      "cell_type": "code",
      "source": [
        "predicted_matrix = np.dot(W, H)"
      ],
      "metadata": {
        "id": "Ezj-kiiWVTsw"
      },
      "execution_count": 18,
      "outputs": []
    },
    {
      "cell_type": "code",
      "source": [
        "user_item_matrix_test = test_df.pivot_table(index='u_nodes', columns='v_nodes', values='ratings').fillna(0)"
      ],
      "metadata": {
        "id": "kBr4mn6xWamY"
      },
      "execution_count": 19,
      "outputs": []
    },
    {
      "cell_type": "code",
      "source": [
        "user_index_map = {user_id: idx for idx, user_id in enumerate(user_item_matrix.index)}\n",
        "movie_index_map = {movie_id: idx for idx, movie_id in enumerate(user_item_matrix.columns)}"
      ],
      "metadata": {
        "id": "UEhzmQqPWxm7"
      },
      "execution_count": 20,
      "outputs": []
    },
    {
      "cell_type": "code",
      "source": [
        "def predict_rating(user_id, movie_id):\n",
        "    if user_id in user_index_map and movie_id in movie_index_map:\n",
        "        u_idx = user_index_map[user_id]\n",
        "        m_idx = movie_index_map[movie_id]\n",
        "        return predicted_matrix[u_idx, m_idx]\n",
        "    else:\n",
        "        return np.nan  # or a default value\n",
        "\n",
        "test_df['predicted'] = test_df.apply(lambda row: predict_rating(row['u_nodes'], row['v_nodes']), axis=1)"
      ],
      "metadata": {
        "id": "yS8tKl5SUJRG"
      },
      "execution_count": 21,
      "outputs": []
    },
    {
      "cell_type": "code",
      "source": [
        "from sklearn.metrics import mean_squared_error\n",
        "\n",
        "mask = ~test_df['predicted'].isna()\n",
        "rmse = np.sqrt(mean_squared_error(test_df.loc[mask, 'ratings'], test_df.loc[mask, 'predicted']))\n",
        "print(f\"RMSE: {rmse:.4f}\")"
      ],
      "metadata": {
        "colab": {
          "base_uri": "https://localhost:8080/"
        },
        "id": "_2hkztEOVbCH",
        "outputId": "49ecd7fe-504d-4795-a028-f2d9cead54c8"
      },
      "execution_count": 22,
      "outputs": [
        {
          "output_type": "stream",
          "name": "stdout",
          "text": [
            "RMSE: 0.9696\n"
          ]
        }
      ]
    },
    {
      "cell_type": "code",
      "source": [
        "def average_precision_at_k(predictions, k):\n",
        "  predictions.sort(key=lambda x: x[0], reverse=True)\n",
        "  score = 0.0\n",
        "  num_hits = 0.0\n",
        "\n",
        "  for i, (predicted_score, actual_rating) in enumerate(predictions[:k]):\n",
        "    if actual_rating >= 4:  # Define relevance threshold\n",
        "      num_hits += 1.0\n",
        "      score += num_hits / (i + 1.0)\n",
        "\n",
        "  total_relevant = sum(1 for _, actual_rating in predictions if actual_rating >= 4)\n",
        "  if total_relevant == 0:\n",
        "    return 0.0\n",
        "  return score / min(total_relevant, k)"
      ],
      "metadata": {
        "id": "sMEQ71fG-kDP"
      },
      "execution_count": 24,
      "outputs": []
    },
    {
      "cell_type": "code",
      "source": [
        "k=10\n",
        "grouped = test_df[mask].groupby('u_nodes')\n",
        "\n",
        "ap_scores = []\n",
        "for user_id, group in grouped:\n",
        "  predictions_list = [(row['predicted'], row['ratings']) for _, row in group.iterrows()]\n",
        "  ap = average_precision_at_k(predictions_list, k=k)\n",
        "  ap_scores.append(ap)\n",
        "\n",
        "map_k = sum(ap_scores) / len(ap_scores)\n",
        "print(f\"mAP@{k}: {map_k:.4f}\")"
      ],
      "metadata": {
        "id": "-Nx19WxD-pr-",
        "outputId": "c4aee0b0-0c00-483c-d19d-00b30c3a4d91",
        "colab": {
          "base_uri": "https://localhost:8080/"
        }
      },
      "execution_count": 45,
      "outputs": [
        {
          "output_type": "stream",
          "name": "stdout",
          "text": [
            "mAP@10: 0.7412\n"
          ]
        }
      ]
    },
    {
      "cell_type": "markdown",
      "metadata": {
        "id": "J7HAmjzZsY5p"
      },
      "source": [
        "## IGMC"
      ]
    },
    {
      "cell_type": "markdown",
      "metadata": {
        "id": "I7IDBd9V--Dw"
      },
      "source": [
        "### Install"
      ]
    },
    {
      "cell_type": "code",
      "execution_count": 28,
      "metadata": {
        "id": "KgCoNBl-twcG"
      },
      "outputs": [],
      "source": [
        "%%capture\n",
        "!pip install pyg_lib torch_scatter torch_sparse torch_cluster torch_spline_conv -f https://data.pyg.org/whl/torch-2.6.0+cu124.html\n",
        "!pip install torch-geometric"
      ]
    },
    {
      "cell_type": "code",
      "execution_count": 29,
      "metadata": {
        "id": "0tS5vjA9sbQd"
      },
      "outputs": [],
      "source": [
        "from __future__ import print_function\n",
        "import numpy as np\n",
        "import random\n",
        "import pandas as pd\n",
        "from tqdm import tqdm\n",
        "import os, sys, pdb, math, time\n",
        "from copy import deepcopy\n",
        "import multiprocessing as mp\n",
        "import networkx as nx\n",
        "import argparse\n",
        "import scipy.io as sio\n",
        "import scipy.sparse as ssp\n",
        "import torch\n",
        "from torch_geometric.data import Data, Dataset, InMemoryDataset\n",
        "import torch.multiprocessing\n",
        "torch.multiprocessing.set_sharing_strategy('file_system')\n",
        "import pickle as pkl\n",
        "import scipy.sparse as sp\n",
        "from torch_geometric.data import DataLoader\n",
        "device = torch.device('cuda' if torch.cuda.is_available() else 'cpu')"
      ]
    },
    {
      "cell_type": "markdown",
      "metadata": {
        "id": "-ukiXiawT_ET"
      },
      "source": [
        "### Construct data"
      ]
    },
    {
      "cell_type": "code",
      "execution_count": 30,
      "metadata": {
        "id": "Nufpi7CWuYyG"
      },
      "outputs": [],
      "source": [
        "class SparseRowIndexer:\n",
        "  def __init__(self, csr_matrix):\n",
        "    data = []\n",
        "    indices = []\n",
        "    indptr = []\n",
        "\n",
        "    for row_start, row_end in zip(csr_matrix.indptr[:-1], csr_matrix.indptr[1:]):\n",
        "      data.append(csr_matrix.data[row_start:row_end])\n",
        "      indices.append(csr_matrix.indices[row_start:row_end])\n",
        "      indptr.append(row_end - row_start)  # nnz of the row\n",
        "\n",
        "    self.data = np.array(data, dtype=object)\n",
        "    self.indices = np.array(indices, dtype=object)\n",
        "    self.indptr = np.array(indptr, dtype=object)\n",
        "    self.shape = csr_matrix.shape\n",
        "\n",
        "  def __getitem__(self, row_selector):\n",
        "    indices = np.concatenate(self.indices[row_selector])\n",
        "    data = np.concatenate(self.data[row_selector])\n",
        "    indptr = np.append(0, np.cumsum(self.indptr[row_selector]))\n",
        "    shape = [indptr.shape[0] - 1, self.shape[1]]\n",
        "    return ssp.csr_matrix((data, indices, indptr), shape=shape)\n",
        "\n",
        "class SparseColIndexer:\n",
        "  def __init__(self, csc_matrix):\n",
        "    data = []\n",
        "    indices = []\n",
        "    indptr = []\n",
        "\n",
        "    for col_start, col_end in zip(csc_matrix.indptr[:-1], csc_matrix.indptr[1:]):\n",
        "        data.append(csc_matrix.data[col_start:col_end])\n",
        "        indices.append(csc_matrix.indices[col_start:col_end])\n",
        "        indptr.append(col_end - col_start)\n",
        "\n",
        "    self.data = np.array(data, dtype=object)\n",
        "    self.indices = np.array(indices, dtype=object)\n",
        "    self.indptr = np.array(indptr, dtype=object)\n",
        "    self.shape = csc_matrix.shape\n",
        "\n",
        "  def __getitem__(self, col_selector):\n",
        "    indices = np.concatenate(self.indices[col_selector])\n",
        "    data = np.concatenate(self.data[col_selector])\n",
        "    indptr = np.append(0, np.cumsum(self.indptr[col_selector]))\n",
        "\n",
        "    shape = [self.shape[0], indptr.shape[0] - 1]\n",
        "    return ssp.csc_matrix((data, indices, indptr), shape=shape)\n",
        "\n",
        "class MyDataset(InMemoryDataset):\n",
        "  def __init__(self, root, A, links, labels, h, sample_ratio, max_nodes_per_hop,\n",
        "               u_features, v_features, class_values, max_num=None, parallel=True):\n",
        "    self.Arow = SparseRowIndexer(A)\n",
        "    self.Acol = SparseColIndexer(A.tocsc())\n",
        "    self.links = links\n",
        "    self.labels = labels\n",
        "    self.h = h\n",
        "    self.sample_ratio = sample_ratio\n",
        "    self.max_nodes_per_hop = max_nodes_per_hop\n",
        "    self.u_features = u_features\n",
        "    self.v_features = v_features\n",
        "    self.class_values = class_values\n",
        "    self.parallel = parallel\n",
        "    self.max_num = max_num\n",
        "    if max_num is not None:\n",
        "      np.random.seed(123)\n",
        "      num_links = len(links[0])\n",
        "      perm = np.random.permutation(num_links)\n",
        "      perm = perm[:max_num]\n",
        "      self.links = (links[0][perm], links[1][perm])\n",
        "      self.labels = labels[perm]\n",
        "    super(MyDataset, self).__init__(root)\n",
        "    self.data, self.slices = torch.load(self.processed_paths[0])\n",
        "\n",
        "  @property\n",
        "  def processed_file_names(self):\n",
        "    name = 'data.pt'\n",
        "    if self.max_num is not None:\n",
        "      name = 'data_{}.pt'.format(self.max_num)\n",
        "    return [name]\n",
        "\n",
        "  def process(self):\n",
        "    # Extract enclosing subgraphs and save to disk\n",
        "    data_list = links2subgraphs(self.Arow, self.Acol, self.links, self.labels, self.h,\n",
        "                                self.sample_ratio, self.max_nodes_per_hop,\n",
        "                                self.u_features, self.v_features,\n",
        "                                self.class_values, self.parallel)\n",
        "\n",
        "    data, slices = self.collate(data_list)\n",
        "    torch.save((data, slices), self.processed_paths[0])\n",
        "    del data_list\n",
        "\n",
        "\n",
        "class MyDynamicDataset(Dataset):\n",
        "  def __init__(self, root, A, links, labels, h, sample_ratio, max_nodes_per_hop,\n",
        "               u_features, v_features, class_values, max_num=None):\n",
        "    super(MyDynamicDataset, self).__init__(root)\n",
        "    self.Arow = SparseRowIndexer(A)\n",
        "    self.Acol = SparseColIndexer(A.tocsc())\n",
        "    self.links = links\n",
        "    self.labels = labels\n",
        "    self.h = h\n",
        "    self.sample_ratio = sample_ratio\n",
        "    self.max_nodes_per_hop = max_nodes_per_hop\n",
        "    self.u_features = u_features\n",
        "    self.v_features = v_features\n",
        "    self.class_values = class_values\n",
        "    if max_num is not None:\n",
        "      np.random.seed(123)\n",
        "      num_links = len(links[0])\n",
        "      perm = np.random.permutation(num_links)\n",
        "      perm = perm[:max_num]\n",
        "      self.links = (links[0][perm], links[1][perm])\n",
        "      self.labels = labels[perm]\n",
        "\n",
        "  def len(self):\n",
        "    return self.__len__()\n",
        "\n",
        "  def __len__(self):\n",
        "    return len(self.links[0])\n",
        "\n",
        "  def get(self, idx):\n",
        "    i, j = self.links[0][idx], self.links[1][idx]\n",
        "    g_label = self.labels[idx]\n",
        "    tmp = subgraph_extraction_labeling(\n",
        "        (i, j), self.Arow, self.Acol, self.h, self.sample_ratio, self.max_nodes_per_hop,\n",
        "        self.u_features, self.v_features, self.class_values, g_label\n",
        "    )\n",
        "    return construct_pyg_graph(*tmp)\n",
        "\n",
        "\n",
        "def links2subgraphs(Arow,\n",
        "                    Acol,\n",
        "                    links,\n",
        "                    labels,\n",
        "                    h=1,\n",
        "                    sample_ratio=1.0,\n",
        "                    max_nodes_per_hop=None,\n",
        "                    u_features=None,\n",
        "                    v_features=None,\n",
        "                    class_values=None,\n",
        "                    parallel=True):\n",
        "  # extract enclosing subgraphs\n",
        "  print('Enclosing subgraph extraction begins...')\n",
        "  g_list = []\n",
        "  if not parallel:\n",
        "    with tqdm(total=len(links[0])) as pbar:\n",
        "      for i, j, g_label in zip(links[0], links[1], labels):\n",
        "        tmp = subgraph_extraction_labeling(\n",
        "            (i, j), Arow, Acol, h, sample_ratio, max_nodes_per_hop, u_features,\n",
        "            v_features, class_values, g_label\n",
        "        )\n",
        "        data = construct_pyg_graph(*tmp)\n",
        "        g_list.append(data)\n",
        "        pbar.update(1)\n",
        "  else:\n",
        "    start = time.time()\n",
        "    pool = mp.Pool(mp.cpu_count())\n",
        "    results = pool.starmap_async(\n",
        "        subgraph_extraction_labeling,\n",
        "        [\n",
        "            ((i, j), Arow, Acol, h, sample_ratio, max_nodes_per_hop, u_features,\n",
        "             v_features, class_values, g_label)\n",
        "            for i, j, g_label in zip(links[0], links[1], labels)\n",
        "        ]\n",
        "    )\n",
        "    remaining = results._number_left\n",
        "    pbar = tqdm(total=remaining)\n",
        "    while True:\n",
        "      pbar.update(remaining - results._number_left)\n",
        "      if results.ready(): break\n",
        "      remaining = results._number_left\n",
        "      time.sleep(1)\n",
        "    results = results.get()\n",
        "    pool.close()\n",
        "    pbar.close()\n",
        "    end = time.time()\n",
        "    print(\"Time elapsed for subgraph extraction: {}s\".format(end-start))\n",
        "    print(\"Transforming to pytorch_geometric graphs...\")\n",
        "    g_list = []\n",
        "    pbar = tqdm(total=len(results))\n",
        "    while results:\n",
        "      tmp = results.pop()\n",
        "      g_list.append(construct_pyg_graph(*tmp))\n",
        "      pbar.update(1)\n",
        "    pbar.close()\n",
        "    end2 = time.time()\n",
        "    print(\"Time elapsed for transforming to pytorch_geometric graphs: {}s\".format(end2-end))\n",
        "  return g_list\n",
        "\n",
        "def subgraph_extraction_labeling(ind, Arow, Acol, h=1, sample_ratio=1.0, max_nodes_per_hop=None,\n",
        "                                 u_features=None, v_features=None, class_values=None,\n",
        "                                 y=1):\n",
        "  # extract the h-hop enclosing subgraph around link 'ind'\n",
        "  u_nodes, v_nodes = [ind[0]], [ind[1]]\n",
        "  u_dist, v_dist = [0], [0]\n",
        "  u_visited, v_visited = set([ind[0]]), set([ind[1]])\n",
        "  u_fringe, v_fringe = set([ind[0]]), set([ind[1]])\n",
        "  for dist in range(1, h+1):\n",
        "    v_fringe, u_fringe = neighbors(u_fringe, Arow), neighbors(v_fringe, Acol)\n",
        "    u_fringe = u_fringe - u_visited\n",
        "    v_fringe = v_fringe - v_visited\n",
        "    u_visited = u_visited.union(u_fringe)\n",
        "    v_visited = v_visited.union(v_fringe)\n",
        "    if sample_ratio < 1.0:\n",
        "      u_fringe = random.sample(u_fringe, int(sample_ratio*len(u_fringe)))\n",
        "      v_fringe = random.sample(v_fringe, int(sample_ratio*len(v_fringe)))\n",
        "    if max_nodes_per_hop is not None:\n",
        "      if max_nodes_per_hop < len(u_fringe):\n",
        "        u_fringe = random.sample(list(u_fringe), max_nodes_per_hop)\n",
        "      if max_nodes_per_hop < len(v_fringe):\n",
        "        v_fringe = random.sample(list(v_fringe), max_nodes_per_hop)\n",
        "    if len(u_fringe) == 0 and len(v_fringe) == 0:\n",
        "      break\n",
        "    u_nodes = u_nodes + list(u_fringe)\n",
        "    v_nodes = v_nodes + list(v_fringe)\n",
        "    u_dist = u_dist + [dist] * len(u_fringe)\n",
        "    v_dist = v_dist + [dist] * len(v_fringe)\n",
        "  subgraph = Arow[u_nodes][:, v_nodes]\n",
        "  # remove link between target nodes\n",
        "  subgraph[0, 0] = 0\n",
        "\n",
        "  # prepare pyg graph constructor input\n",
        "  u, v, r = ssp.find(subgraph)  # r is 1, 2... (rating labels + 1)\n",
        "  v += len(u_nodes)\n",
        "  r = r - 1  # transform r back to rating label\n",
        "  num_nodes = len(u_nodes) + len(v_nodes)\n",
        "  node_labels = [x*2 for x in u_dist] + [x*2+1 for x in v_dist]\n",
        "  max_node_label = 2*h + 1\n",
        "  y = class_values[y]\n",
        "\n",
        "  # get node features\n",
        "  if u_features is not None:\n",
        "    u_features = u_features[u_nodes]\n",
        "  if v_features is not None:\n",
        "    v_features = v_features[v_nodes]\n",
        "  node_features = None\n",
        "  if False:\n",
        "    # directly use padded node features\n",
        "    if u_features is not None and v_features is not None:\n",
        "      u_extended = np.concatenate(\n",
        "          [u_features, np.zeros([u_features.shape[0], v_features.shape[1]])], 1\n",
        "      )\n",
        "      v_extended = np.concatenate(\n",
        "          [np.zeros([v_features.shape[0], u_features.shape[1]]), v_features], 1\n",
        "      )\n",
        "      node_features = np.concatenate([u_extended, v_extended], 0)\n",
        "  if False:\n",
        "    # use identity features (one-hot encodings of node idxes)\n",
        "    u_ids = one_hot(u_nodes, Arow.shape[0] + Arow.shape[1])\n",
        "    v_ids = one_hot([x+Arow.shape[0] for x in v_nodes], Arow.shape[0] + Arow.shape[1])\n",
        "    node_ids = np.concatenate([u_ids, v_ids], 0)\n",
        "    #node_features = np.concatenate([node_features, node_ids], 1)\n",
        "    node_features = node_ids\n",
        "  if True:\n",
        "    # only output node features for the target user and item\n",
        "    if u_features is not None and v_features is not None:\n",
        "      node_features = [u_features[0], v_features[0]]\n",
        "\n",
        "  return u, v, r, node_labels, max_node_label, y, node_features\n",
        "\n",
        "def construct_pyg_graph(u, v, r, node_labels, max_node_label, y, node_features):\n",
        "    u, v = torch.LongTensor(u), torch.LongTensor(v)\n",
        "    r = torch.LongTensor(r)\n",
        "    edge_index = torch.stack([torch.cat([u, v]), torch.cat([v, u])], 0)\n",
        "    edge_type = torch.cat([r, r])\n",
        "    x = torch.FloatTensor(one_hot(node_labels, max_node_label+1))\n",
        "    y = torch.FloatTensor([y])\n",
        "    data = Data(x, edge_index, edge_type=edge_type, y=y)\n",
        "\n",
        "    if node_features is not None:\n",
        "        if type(node_features) == list:  # a list of u_feature and v_feature\n",
        "            u_feature, v_feature = node_features\n",
        "            data.u_feature = torch.FloatTensor(u_feature).unsqueeze(0)\n",
        "            data.v_feature = torch.FloatTensor(v_feature).unsqueeze(0)\n",
        "        else:\n",
        "            x2 = torch.FloatTensor(node_features)\n",
        "            data.x = torch.cat([data.x, x2], 1)\n",
        "    return data\n",
        "\n",
        "\n",
        "def neighbors(fringe, A):\n",
        "  # find all 1-hop neighbors of nodes in fringe from A\n",
        "  if not fringe:\n",
        "    return set([])\n",
        "  return set(A[list(fringe)].indices)\n",
        "\n",
        "def one_hot(idx, length):\n",
        "  idx = np.array(idx)\n",
        "  x = np.zeros([len(idx), length])\n",
        "  x[np.arange(len(idx)), idx] = 1.0\n",
        "  return x\n",
        "\n",
        "def PyGGraph_to_nx(data):\n",
        "  edges = list(zip(data.edge_index[0, :].tolist(), data.edge_index[1, :].tolist()))\n",
        "  g = nx.from_edgelist(edges)\n",
        "  g.add_nodes_from(range(len(data.x)))  # in case some nodes are isolated\n",
        "  # transform r back to rating label\n",
        "  edge_types = {(u, v): data.edge_type[i].item() for i, (u, v) in enumerate(edges)}\n",
        "  nx.set_edge_attributes(g, name='type', values=edge_types)\n",
        "  node_types = dict(zip(range(data.num_nodes), torch.argmax(data.x, 1).tolist()))\n",
        "  nx.set_node_attributes(g, name='type', values=node_types)\n",
        "  g.graph['rating'] = data.y.item()\n",
        "  return g"
      ]
    },
    {
      "cell_type": "markdown",
      "metadata": {
        "id": "uZymfJsCUu_x"
      },
      "source": [
        "### Define Model"
      ]
    },
    {
      "cell_type": "code",
      "execution_count": 31,
      "metadata": {
        "id": "sexFGV84xWQH"
      },
      "outputs": [],
      "source": [
        "import torch.nn as nn\n",
        "from torch.nn import Linear, Conv1d\n",
        "from torch_geometric.nn import GCNConv, RGCNConv, global_sort_pool, global_add_pool\n",
        "from torch_geometric.utils import dropout_edge\n",
        "import pdb\n",
        "\n",
        "class GNN(torch.nn.Module):\n",
        "  # a base GNN class, GCN message passing + sum_pooling\n",
        "  def __init__(self, dataset, gconv = GCNConv, latent_dim=[32, 32, 32, 1],\n",
        "               regression = False, adj_dropout = 0.2,\n",
        "               force_undirected = False):\n",
        "    super(GNN, self).__init__()\n",
        "    self.regression = regression\n",
        "    self.adj_dropout = adj_dropout\n",
        "    self.force_undirected = force_undirected\n",
        "    self.convs = torch.nn.ModuleList()\n",
        "    self.convs.append(gconv(4, latent_dim[0]))\n",
        "    for i in range(0, len(latent_dim)-1):\n",
        "      self.convs.append(gconv(latent_dim[i], latent_dim[i+1]))\n",
        "    self.lin1 = Linear(sum(latent_dim), 128)\n",
        "    if self.regression:\n",
        "      self.lin2 = Linear(128, 1)\n",
        "    else:\n",
        "      self.lin2 = Linear(128, dataset.num_classes)\n",
        "\n",
        "  def reset_parameters(self):\n",
        "    for conv in self.convs:\n",
        "      conv.reset_parameters()\n",
        "    self.lin1.reset_parameters()\n",
        "    self.lin2.reset_parameters()\n",
        "\n",
        "  def forward(self, data):\n",
        "    x, edge_index, batch = data.x, data.edge_index, data.batch\n",
        "    if self.adj_dropout > 0:\n",
        "      edge_index, _ = dropout_edge(edge_index, p=self.adj_dropout,\n",
        "                                   force_undirected=self.force_undirected,\n",
        "                                   num_nodes=len(x), training=self.training)\n",
        "    concat_states = []\n",
        "    for conv in self.convs:\n",
        "      x = torch.tanh(conv(x, edge_index))\n",
        "      concat_states.append(x)\n",
        "    concat_states = torch.cat(concat_states, 1)\n",
        "    x = global_add_pool(concat_states, batch)\n",
        "    x = F.relu(self.lin1(x))\n",
        "    x = F.dropout(x, p=0.5, training=self.training)\n",
        "    x = self.lin2(x)\n",
        "    if self.regression:\n",
        "      return x[:, 0]\n",
        "    else:\n",
        "      return F.log_softmax(x, dim=-1)\n",
        "\n",
        "  def __repr__(self):\n",
        "    return self.__class__.__name__\n",
        "\n",
        "class IGMC(GNN):\n",
        "  # The GNN model of Inductive Graph-based Matrix Completion.\n",
        "  # Use RGCN convolution + center-nodes readout.\n",
        "  def __init__(self, dataset, gconv=RGCNConv, latent_dim=[32, 32, 32, 32],\n",
        "               num_relations=5, num_bases=2, regression=False, adj_dropout=0.2,\n",
        "               force_undirected=False, side_features=False, n_side_features=0,\n",
        "               multiply_by=1):\n",
        "    super(IGMC, self).__init__(dataset, GCNConv, latent_dim,\n",
        "                               regression, adj_dropout, force_undirected\n",
        "    )\n",
        "    self.multiply_by = multiply_by\n",
        "    self.convs = torch.nn.ModuleList()\n",
        "    self.convs.append(gconv(4, latent_dim[0], num_relations, num_bases))\n",
        "    for i in range(0, len(latent_dim)-1):\n",
        "      self.convs.append(gconv(latent_dim[i], latent_dim[i+1], num_relations, num_bases))\n",
        "    self.lin1 = Linear(2*sum(latent_dim), 128)\n",
        "    self.side_features = side_features\n",
        "    if side_features:\n",
        "      self.lin1 = Linear(2*sum(latent_dim)+n_side_features, 128)\n",
        "\n",
        "  def forward(self, data):\n",
        "    start = time.time()\n",
        "    x, edge_index, edge_type, batch = data.x, data.edge_index, data.edge_type, data.batch\n",
        "    if self.adj_dropout > 0:\n",
        "      edge_index, edge_mask = dropout_edge(edge_index, p=self.adj_dropout,\n",
        "                                           force_undirected=self.force_undirected,\n",
        "                                           training=self.training)\n",
        "      edge_type = data.edge_type[edge_mask]\n",
        "    concat_states = []\n",
        "    for conv in self.convs:\n",
        "      x = torch.tanh(conv(x, edge_index, edge_type))\n",
        "      concat_states.append(x)\n",
        "    concat_states = torch.cat(concat_states, 1)\n",
        "\n",
        "    users = data.x[:, 0] == 1\n",
        "    items = data.x[:, 1] == 1\n",
        "    x = torch.cat([concat_states[users], concat_states[items]], 1)\n",
        "    if self.side_features:\n",
        "      x = torch.cat([x, data.u_feature, data.v_feature], 1)\n",
        "\n",
        "    x = F.relu(self.lin1(x))\n",
        "    x = F.dropout(x, p=0.5, training=self.training)\n",
        "    x = self.lin2(x)\n",
        "    if self.regression:\n",
        "      return x[:, 0] * self.multiply_by\n",
        "    else:\n",
        "      return F.log_softmax(x, dim=-1)"
      ]
    },
    {
      "cell_type": "markdown",
      "metadata": {
        "id": "n4tRhhVAUFbG"
      },
      "source": [
        "### Training utilities"
      ]
    },
    {
      "cell_type": "code",
      "execution_count": 32,
      "metadata": {
        "id": "Yk__yCPAwg9W"
      },
      "outputs": [],
      "source": [
        "import torch.nn.functional as F\n",
        "from torch.optim import Adam\n",
        "\n",
        "def train(model, optimizer, loader, device, regression = False, ARR = 0, show_progress= False, epoch = None):\n",
        "  model.train()\n",
        "  total_loss = 0\n",
        "  if show_progress:\n",
        "    pbar = tqdm(loader)\n",
        "  else:\n",
        "    pbar = loader\n",
        "  for data in pbar:\n",
        "    optimizer.zero_grad()\n",
        "    data = data.to(device)\n",
        "    out = model(data)\n",
        "    if regression:\n",
        "      loss = F.mse_loss(out, data.y.view(-1))\n",
        "    else:\n",
        "      loss = F.nll_loss(out, data.y.view(-1))\n",
        "    if show_progress:\n",
        "      pbar.set_description('Epoch {}, batch loss: {}'.format(epoch, loss.item()))\n",
        "    if ARR != 0:\n",
        "      for gconv in model.convs:\n",
        "        w = torch.matmul(gconv.comp,\n",
        "                         gconv.weight.view(gconv.num_bases, -1)\n",
        "        ).view(gconv.num_relations, gconv.in_channels, gconv.out_channels)\n",
        "        reg_loss = torch.sum((w[1:, :, :] - w[:-1, :, :])**2)\n",
        "        loss += ARR * reg_loss\n",
        "    loss.backward()\n",
        "    total_loss += loss.item() * num_graphs(data)\n",
        "    optimizer.step()\n",
        "  return total_loss / len(loader.dataset)\n",
        "\n",
        "def eval_loss(model, loader, device, regression=False, show_progress= False):\n",
        "  model.eval()\n",
        "  loss = 0\n",
        "  if show_progress:\n",
        "    print('Testing begins ...')\n",
        "    pbar = tqdm(loader)\n",
        "  else:\n",
        "    pbar = loader\n",
        "  for data in pbar:\n",
        "    data = data.to(device)\n",
        "    with torch.no_grad():\n",
        "      out = model(data)\n",
        "    if regression:\n",
        "      loss += F.mse_loss(out, data.y.view(-1), reduction='sum').item()\n",
        "    else:\n",
        "      loss += F.nll_loss(out, data.y.view(-1), reduction='sum').item()\n",
        "    torch.cuda.empty_cache()\n",
        "  return loss / len(loader.dataset)\n",
        "\n",
        "def eval_rmse(model, loader, device, show_progress = False):\n",
        "  mse_loss = eval_loss(model, loader, device, True, show_progress)\n",
        "  rmse = math.sqrt(mse_loss)\n",
        "  return rmse\n",
        "\n",
        "def eval_loss_ensemble(model, checkpoints, loader, device, regression = False, show_progress = False):\n",
        "  loss = 0\n",
        "  Outs = []\n",
        "  ys = []\n",
        "  for i, checkpoint in enumerate(checkpoints):\n",
        "    if show_progress:\n",
        "      print('Testing begins...')\n",
        "      pbar = tqdm(loader)\n",
        "    else:\n",
        "      pbar = loader\n",
        "    model.load_state_dict(torch.load(checkpoint))\n",
        "    model.eval()\n",
        "    outs = []\n",
        "    if i == 0:\n",
        "      ys = []\n",
        "    for data in pbar:\n",
        "      data = data.to(device)\n",
        "      if i == 0:\n",
        "        ys.append(data.y.view(-1))\n",
        "      with torch.no_grad():\n",
        "        out = model(data)\n",
        "        outs.append(out)\n",
        "    if i == 0:\n",
        "      ys = torch.cat(ys, 0)\n",
        "    outs = torch.cat(outs, 0).view(-1 , 1)\n",
        "    Outs.append(outs)\n",
        "  Outs = torch.cat(Outs, 1).mean(1)\n",
        "  if regression:\n",
        "    loss += F.mse_loss(Outs, ys, reduction='sum').item()\n",
        "  else:\n",
        "    loss += F.nll_loss(Outs, ys, reduction='sum').item()\n",
        "\n",
        "  return loss / len(loader.dataset)\n",
        "\n",
        "def eval_rmse_ensemble(model, checkpoints, loader, device, show_progress = False):\n",
        "  mse_loss = eval_loss_ensemble(model ,checkpoints, loader, device, True, show_progress = False)\n",
        "  rmse = math.sqrt(mse_loss)\n",
        "  return rmse"
      ]
    },
    {
      "cell_type": "code",
      "execution_count": 33,
      "metadata": {
        "id": "ETDAJ25Twa5m"
      },
      "outputs": [],
      "source": [
        "def train_multiple_epochs(train_dataset, test_dataset, model,\n",
        "                          epochs, batch_size, lr, lr_decay_factor,\n",
        "                          lr_decay_step_size, weight_decay, ARR = 0,\n",
        "                          test_freq = 1, logger = None, continue_from = None,\n",
        "                          res_dir = None, cpu_only = False):\n",
        "  rmses = []\n",
        "\n",
        "  if train_dataset.__class__.__name__ == 'MyDynamicDataset':\n",
        "    num_workers = mp.cpu_count()\n",
        "  else:\n",
        "    num_workers = 2\n",
        "\n",
        "  train_loader = DataLoader(train_dataset, batch_size, shuffle = True, num_workers = num_workers)\n",
        "\n",
        "  if test_dataset.__class__.__name__ == 'MyDynamicDataset':\n",
        "    num_workers = mp.cpu_count()\n",
        "  else:\n",
        "    num_workers = 2\n",
        "\n",
        "  test_loader = DataLoader(test_dataset, batch_size, shuffle = False, num_workers = num_workers)\n",
        "\n",
        "  model.to(device).reset_parameters()\n",
        "  optimizer = Adam(model.parameters(), lr = lr, weight_decay = weight_decay)\n",
        "  start_epoch = 1\n",
        "  if continue_from is not None:\n",
        "    if(cpu_only):\n",
        "      model.load_state_dict(\n",
        "        torch.load(\n",
        "            os.path.join(res_dir, 'model_checkpoint{}.pth'.format(continue_from)),\n",
        "            map_location=torch.device('cpu')\n",
        "            )\n",
        "      )\n",
        "      optimizer.load_state_dict(\n",
        "          torch.load(\n",
        "              os.path.join(res_dir, 'optimizer_checkpoint{}.pth'.format(continue_from)),\n",
        "              map_location=torch.device('cpu')\n",
        "              )\n",
        "      )\n",
        "    else:\n",
        "      model.load_state_dict(\n",
        "        torch.load(os.path.join(res_dir, 'model_checkpoint{}.pth'.format(continue_from)))\n",
        "      )\n",
        "      optimizer.load_state_dict(\n",
        "          torch.load(os.path.join(res_dir, 'optimizer_checkpoint{}.pth'.format(continue_from)))\n",
        "      )\n",
        "\n",
        "    start_epoch = continue_from + 1\n",
        "    epochs -= continue_from\n",
        "  if torch.cuda.is_available():\n",
        "    torch.cuda.synchronize()\n",
        "\n",
        "  # batch_pbar = len(train_dataset) >= 100000\n",
        "  batch_pbar = True\n",
        "  t_start = time.perf_counter()\n",
        "  if not batch_pbar:\n",
        "    pbar = tqdm(range(start_epoch, epochs + start_epoch))\n",
        "  else:\n",
        "    pbar = range(start_epoch, epochs + start_epoch)\n",
        "  for epoch in pbar:\n",
        "    train_loss = train(model, optimizer, train_loader, device, regression = True,\n",
        "                       ARR = ARR, show_progress = batch_pbar, epoch=epoch)\n",
        "    if epoch % test_freq == 0:\n",
        "      rmses.append(eval_rmse(model, test_loader, device, show_progress = batch_pbar))\n",
        "    else:\n",
        "      rmses.append(np.nan)\n",
        "    eval_info = {\n",
        "      'epoch': epoch,\n",
        "      'train_loss': train_loss,\n",
        "      'test_rmse': rmses[-1],\n",
        "    }\n",
        "\n",
        "    if not batch_pbar:\n",
        "      pbar.set_description(\n",
        "          'Epoch {}, train loss {:.6f}, test rmse {:.6f}'.format(*eval_info.values())\n",
        "      )\n",
        "    else:\n",
        "      print('Epoch {}, train loss {:.6f}, test rmse {:.6f}'.format(*eval_info.values()))\n",
        "\n",
        "    if epoch % lr_decay_step_size == 0:\n",
        "      for param_group in optimizer.param_groups:\n",
        "        param_group['lr'] = lr_decay_factor * param_group['lr']\n",
        "\n",
        "    if logger is not None:\n",
        "      logger(eval_info, model, optimizer)\n",
        "\n",
        "  t_end = time.perf_counter()\n",
        "  duration = t_end - t_start\n",
        "\n",
        "  print('Final Test RMSE: {:.6f}, Duration: {:.6f}'.format(rmses[-1], duration))\n",
        "\n",
        "  return rmses[-1]\n",
        "\n",
        "def test_once(test_dataset, model, batch_size, logger = None, ensemble = False, checkpoints = None):\n",
        "  test_loader = DataLoader(test_dataset, batch_size, shuffle = False)\n",
        "  model.to(device)\n",
        "  t_start = time.perf_counter()\n",
        "  if ensemble and checkpoints:\n",
        "    rmse = eval_rmse_ensemble(model, checkpoints, test_loader, device, show_progress = True)\n",
        "  else:\n",
        "    rmse = eval_rmse(model, test_loader, device, show_progress = True)\n",
        "\n",
        "  t_end = time.perf_counter()\n",
        "  duration = t_end - t_start\n",
        "  print('Test Once RMSE: {:.6f}, Duration: {:.6f}'.format(rmse, duration))\n",
        "  epoch_info = 'test_once' if not ensemble else 'ensemble'\n",
        "  eval_info = {\n",
        "      'epoch': epoch_info,\n",
        "      'train_loss': 0,\n",
        "      'test_rmse': rmse,\n",
        "  }\n",
        "\n",
        "  if logger is not None:\n",
        "    logger(eval_info, None, None)\n",
        "\n",
        "  return rmse\n",
        "\n",
        "def num_graphs(data):\n",
        "  if data.batch is not None:\n",
        "    return data.num_graphs\n",
        "  else:\n",
        "    return data.x.size(0)"
      ]
    },
    {
      "cell_type": "markdown",
      "metadata": {
        "id": "AzfYCAN8VBsC"
      },
      "source": [
        "### Load and split data"
      ]
    },
    {
      "cell_type": "code",
      "execution_count": 34,
      "metadata": {
        "id": "CO29cuGn3ADj"
      },
      "outputs": [],
      "source": [
        "import numpy as np\n",
        "import pandas as pd\n",
        "import random\n",
        "import scipy.sparse as sp\n",
        "\n",
        "def map_data(data):\n",
        "  uniq = list(set(data))\n",
        "  id_dict = {old: new for new, old in enumerate(sorted(uniq))}\n",
        "  data = np.array([id_dict[x] for x in data])\n",
        "  n = len(uniq)\n",
        "\n",
        "  return data, id_dict, n\n",
        "\n",
        "def process_data(dataset, seed = 1234, verbose = True):\n",
        "  num_users, num_items, u_nodes_ratings, v_nodes_ratings, ratings, u_features, v_features = None, None, None, None, None, None, None\n",
        "\n",
        "  # shuffle\n",
        "  data_array = dataset.ratings_df.values.tolist()\n",
        "  random.seed(seed)\n",
        "  random.shuffle(data_array)\n",
        "  data_array = np.array(data_array)\n",
        "\n",
        "  u_nodes_ratings = data_array[:, 0].astype(np.int64)\n",
        "  v_nodes_ratings = data_array[:, 1].astype(np.int64)\n",
        "  ratings = data_array[:, 2].astype(np.float32)\n",
        "\n",
        "  u_nodes_ratings, u_dict, num_users = map_data(u_nodes_ratings)\n",
        "  v_nodes_ratings, v_dict, num_items = map_data(v_nodes_ratings)\n",
        "\n",
        "  u_nodes_ratings, v_nodes_ratings = u_nodes_ratings.astype(np.int64), v_nodes_ratings.astype(np.int64)\n",
        "  ratings = ratings.astype(np.float32)\n",
        "\n",
        "  # Load movie features\n",
        "  # Extracting all genres\n",
        "  if isinstance(dataset, MovieLens1m):\n",
        "    genres = []\n",
        "    for s in dataset.movies_df['genre'].values:\n",
        "      genres.extend(s.split('|'))\n",
        "\n",
        "    genres = list(set(genres))\n",
        "    num_genres = len(genres)\n",
        "\n",
        "    genres_dict = {g: idx for idx, g in enumerate(genres)}\n",
        "\n",
        "    # Creating 0 or 1 valued features for all genres\n",
        "    v_features = np.zeros((num_items, num_genres), dtype=np.float32)\n",
        "    for movie_id, s in zip(dataset.movies_df['movie_id'].values.tolist(), dataset.movies_df['genre'].values.tolist()):\n",
        "      # Check if movie_id was listed in ratings file and therefore in mapping dictionary\n",
        "      if movie_id in v_dict.keys():\n",
        "        gen = s.split('|')\n",
        "        for g in gen:\n",
        "          v_features[v_dict[movie_id], genres_dict[g]] = 1.\n",
        "\n",
        "    # Load user features\n",
        "    # Extracting all features\n",
        "    cols = dataset.users_df.columns.values[1:]\n",
        "\n",
        "    cntr = 0\n",
        "    feat_dicts = []\n",
        "    for header in cols:\n",
        "      #if header == 'zip-code':\n",
        "      #  continue\n",
        "      d = dict()\n",
        "      feats = np.unique(dataset.users_df[header].values).tolist()\n",
        "      d.update({f: i for i, f in enumerate(feats, start=cntr)})\n",
        "      feat_dicts.append(d)\n",
        "      cntr += len(d)\n",
        "\n",
        "    num_feats = sum(len(d) for d in feat_dicts)\n",
        "\n",
        "    u_features = np.zeros((num_users, num_feats), dtype=np.float32)\n",
        "    for _, row in dataset.users_df.iterrows():\n",
        "      u_id = row['user_id']\n",
        "      if u_id in u_dict.keys():\n",
        "        for k, header in enumerate(cols):\n",
        "            u_features[u_dict[u_id], feat_dicts[k][row[header]]] = 1.\n",
        "  elif isinstance(dataset, MovieLens100k):\n",
        "    # Movie features (genres)\n",
        "    genre_headers = dataset.movies_df.columns.values[6:]\n",
        "    num_genres = genre_headers.shape[0]\n",
        "\n",
        "    v_features = np.zeros((num_items, num_genres), dtype=np.float32)\n",
        "    for movie_id, g_vec in zip(dataset.movies_df['movie_id'].values.tolist(), dataset.movies_df[genre_headers].values.tolist()):\n",
        "      # Check if movie_id was listed in ratings file and therefore in mapping dictionary\n",
        "      if movie_id in v_dict.keys():\n",
        "        v_features[v_dict[movie_id], :] = g_vec\n",
        "\n",
        "    # User features\n",
        "    occupation = set(dataset.users_df['occupation'].values.tolist())\n",
        "\n",
        "    gender_dict = {'M': 0., 'F': 1.}\n",
        "    occupation_dict = {f: i for i, f in enumerate(occupation, start=2)}\n",
        "\n",
        "    num_feats = 2 + len(occupation_dict)\n",
        "\n",
        "    u_features = np.zeros((num_users, num_feats), dtype=np.float32)\n",
        "    for _, row in dataset.users_df.iterrows():\n",
        "      u_id = row['user_id']\n",
        "      if u_id in u_dict.keys():\n",
        "        # age\n",
        "        u_features[u_dict[u_id], 0] = row['age']\n",
        "        # gender\n",
        "        u_features[u_dict[u_id], 1] = gender_dict[row['gender']]\n",
        "        # occupation\n",
        "        u_features[u_dict[u_id], occupation_dict[row['occupation']]] = 1.\n",
        "\n",
        "  u_features = sp.csr_matrix(u_features)\n",
        "  v_features = sp.csr_matrix(v_features)\n",
        "\n",
        "  return num_users, num_items, u_nodes_ratings, v_nodes_ratings, ratings, u_features, v_features"
      ]
    },
    {
      "cell_type": "code",
      "execution_count": 35,
      "metadata": {
        "id": "xIg2ecUs0qBJ"
      },
      "outputs": [],
      "source": [
        "def create_trainvaltest_split(dataset, seed=1212, testing=False,\n",
        "                              verbose=True, rating_map=None,\n",
        "                              post_rating_map=None, ratio=1.0):\n",
        "  num_users, num_items, u_nodes, v_nodes, ratings, u_features, v_features = process_data(dataset, seed=seed, verbose=verbose)\n",
        "\n",
        "  if rating_map is not None:\n",
        "    for i, x in enumerate(ratings):\n",
        "      ratings[i] = rating_map[x]\n",
        "\n",
        "  rating_dict = {r: i for i, r in enumerate(np.sort(np.unique(ratings)).tolist())}\n",
        "\n",
        "  # number of test and validation edges\n",
        "\n",
        "  print(\"Spliting the dataset ...\")\n",
        "  num_test = int(np.ceil(ratings.shape[0] * 0.1))\n",
        "  num_val = int(np.ceil(ratings.shape[0] * 0.9 * 0.05))\n",
        "  num_train = ratings.shape[0] - num_val - num_test\n",
        "\n",
        "  pairs_nonzero = np.vstack([u_nodes, v_nodes]).transpose()\n",
        "\n",
        "  train_pairs_idx = pairs_nonzero[0:int(num_train*ratio)]\n",
        "  val_pairs_idx = pairs_nonzero[num_train:num_train + num_val]\n",
        "  test_pairs_idx = pairs_nonzero[num_train + num_val:]\n",
        "\n",
        "  u_test_idx, v_test_idx = test_pairs_idx.transpose()\n",
        "  u_val_idx, v_val_idx = val_pairs_idx.transpose()\n",
        "  u_train_idx, v_train_idx = train_pairs_idx.transpose()\n",
        "\n",
        "  # create labels\n",
        "  all_labels = np.array([rating_dict[r] for r in ratings], dtype=np.int32)\n",
        "  train_labels = all_labels[0:int(num_train*ratio)]\n",
        "  val_labels = all_labels[num_train:num_train + num_val]\n",
        "  test_labels = all_labels[num_train + num_val:]\n",
        "\n",
        "  if testing:\n",
        "    u_train_idx = np.hstack([u_train_idx, u_val_idx])\n",
        "    v_train_idx = np.hstack([v_train_idx, v_val_idx])\n",
        "    train_labels = np.hstack([train_labels, val_labels])\n",
        "\n",
        "  class_values = np.sort(np.unique(ratings))\n",
        "\n",
        "  # make training adjacency matrix\n",
        "  if post_rating_map is None:\n",
        "    data = train_labels + 1.\n",
        "  else:\n",
        "    data = np.array([post_rating_map[r] for r in class_values[train_labels]]) + 1.\n",
        "  data = data.astype(np.float32)\n",
        "\n",
        "  rating_mx_train = sp.csr_matrix((data, [u_train_idx, v_train_idx]),\n",
        "                                  shape=[num_users, num_items], dtype=np.float32)\n",
        "\n",
        "  return u_features, v_features, rating_mx_train, train_labels, u_train_idx, v_train_idx, val_labels, u_val_idx, v_val_idx, test_labels, u_test_idx, v_test_idx, class_values"
      ]
    },
    {
      "cell_type": "markdown",
      "metadata": {
        "id": "iw588HoGcwKo"
      },
      "source": [
        "## Main"
      ]
    },
    {
      "cell_type": "code",
      "source": [
        "dataset1 = dataset\n",
        "dataset1.ratings_df = dataset1.ratings_df[:100_000]"
      ],
      "metadata": {
        "id": "VEUqRjVCBBi4"
      },
      "execution_count": 19,
      "outputs": []
    },
    {
      "cell_type": "code",
      "execution_count": 36,
      "metadata": {
        "colab": {
          "base_uri": "https://localhost:8080/"
        },
        "id": "z23qqQ9n0gE9",
        "outputId": "cd0e23cb-fe08-4062-d5ed-bf1594b778af"
      },
      "outputs": [
        {
          "output_type": "stream",
          "name": "stdout",
          "text": [
            "Spliting the dataset ...\n"
          ]
        }
      ],
      "source": [
        "u_features, v_features, adj_train, train_labels, train_u_indices, train_v_indices, val_labels, val_u_indices, val_v_indices, test_labels, test_u_indices, test_v_indices, class_values = create_trainvaltest_split(dataset, 1212, False, True, None, None, 1.0)"
      ]
    },
    {
      "cell_type": "code",
      "execution_count": 37,
      "metadata": {
        "id": "15vzGFIaRE-W",
        "colab": {
          "base_uri": "https://localhost:8080/"
        },
        "outputId": "56f76ffc-2013-4f37-bd92-f9bc7d528e74"
      },
      "outputs": [
        {
          "output_type": "execute_result",
          "data": {
            "text/plain": [
              "('ml-100k/train', 'ml-100k/val', 'ml-100k/test')"
            ]
          },
          "metadata": {},
          "execution_count": 37
        }
      ],
      "source": [
        "train_root = 'ml-1m/train'\n",
        "val_root = 'ml-1m/val'\n",
        "test_root = 'ml-1m/test'\n",
        "if isinstance(dataset, MovieLens1m):\n",
        "  !mkdir ml-1m ml-1m/train ml-1m/test ml-1m/val\n",
        "elif isinstance(dataset, MovieLens100k):\n",
        "  !mkdir ml-100k ml-100k/train ml-100k/test ml-100k/val\n",
        "  train_root = 'ml-100k/train'\n",
        "  val_root = 'ml-100k/val'\n",
        "  test_root = 'ml-100k/test'\n",
        "train_root, val_root, test_root"
      ]
    },
    {
      "cell_type": "code",
      "execution_count": 38,
      "metadata": {
        "colab": {
          "base_uri": "https://localhost:8080/"
        },
        "id": "1eOLsZFACvjd",
        "outputId": "edf20667-9591-4b0c-c8e4-23b5e1b2fd2f"
      },
      "outputs": [
        {
          "output_type": "execute_result",
          "data": {
            "text/plain": [
              "(85500, 4500, 10000)"
            ]
          },
          "metadata": {},
          "execution_count": 38
        }
      ],
      "source": [
        "train_dataset = eval('MyDynamicDataset')(root=train_root, A=adj_train,\n",
        "                                         links=(train_u_indices, train_v_indices),\n",
        "                                         labels=train_labels, h=1, sample_ratio=1,\n",
        "                                         max_nodes_per_hop=200, u_features=None,\n",
        "                                         v_features=None, class_values=class_values)\n",
        "val_dataset = eval('MyDynamicDataset')(root=val_root, A=adj_train,\n",
        "                                       links=(val_u_indices, val_v_indices),\n",
        "                                       labels=val_labels, h=1, sample_ratio=1.0,\n",
        "                                       max_nodes_per_hop=200, u_features=None,\n",
        "                                       v_features=None, class_values=class_values)\n",
        "test_dataset = eval('MyDynamicDataset')(root=test_root, A=adj_train,\n",
        "                                        links=(test_u_indices, test_v_indices),\n",
        "                                        labels=test_labels, h=1, sample_ratio=1.0,\n",
        "                                        max_nodes_per_hop=200, u_features=None,\n",
        "                                        v_features=None, class_values=class_values)\n",
        "\n",
        "len(train_dataset), len(val_dataset), len(test_dataset)"
      ]
    },
    {
      "cell_type": "code",
      "execution_count": 39,
      "metadata": {
        "id": "_pFRqjzy67VP"
      },
      "outputs": [],
      "source": [
        "num_relations = len(class_values)\n",
        "multiply_by = 1\n",
        "\n",
        "model = IGMC(train_dataset, latent_dim = [32, 32, 32, 32],\n",
        "             num_relations = num_relations, num_bases = 4,\n",
        "             regression = True, adj_dropout = 0.2, force_undirected = False,\n",
        "             side_features = False, n_side_features = 0, multiply_by = 1\n",
        ")"
      ]
    },
    {
      "cell_type": "code",
      "execution_count": 40,
      "metadata": {
        "id": "eOU_I_cs7Up_"
      },
      "outputs": [],
      "source": [
        "def logger(info, model, optimizer):\n",
        "  epoch, train_loss, test_rmse = info['epoch'], info['train_loss'], info['test_rmse']\n",
        "  with open(os.path.join(train_root, 'log.txt'), 'a') as f:\n",
        "    f.write('Epoch {}, train loss {:.4f}, test rmse {:.6f}\\n'.format(epoch, train_loss, test_rmse))\n",
        "  if type(epoch) == int and epoch % args['save_interval'] == 0:\n",
        "    print('Saving model states...')\n",
        "    model_name = os.path.join(train_root, 'model_checkpoint{}.pth'.format(epoch))\n",
        "    optimizer_name = os.path.join(\n",
        "        train_root, 'optimizer_checkpoint{}.pth'.format(epoch)\n",
        "    )\n",
        "    if model is not None:\n",
        "      torch.save(model.state_dict(), model_name)\n",
        "    if optimizer is not None:\n",
        "      torch.save(optimizer.state_dict(), optimizer_name)"
      ]
    },
    {
      "cell_type": "code",
      "source": [
        "args = {\n",
        "    'save_interval': 1\n",
        "}\n",
        "train_multiple_epochs(\n",
        "        train_dataset,\n",
        "        val_dataset,\n",
        "        model,\n",
        "        4,\n",
        "        50,\n",
        "        1e-3,\n",
        "        lr_decay_factor = 0.1 ,\n",
        "        lr_decay_step_size = 20,\n",
        "        weight_decay = 0,\n",
        "        ARR = 0.001,\n",
        "        test_freq = 1,\n",
        "        logger = logger,\n",
        "        continue_from = None,\n",
        "        res_dir= train_root,\n",
        "        cpu_only = True\n",
        "    )"
      ],
      "metadata": {
        "colab": {
          "base_uri": "https://localhost:8080/"
        },
        "id": "lLLxBGlweLKO",
        "outputId": "c1031710-3b98-4cec-fc1e-55addfe1ec06"
      },
      "execution_count": 41,
      "outputs": [
        {
          "output_type": "stream",
          "name": "stderr",
          "text": [
            "/usr/local/lib/python3.11/dist-packages/torch_geometric/deprecation.py:26: UserWarning: 'data.DataLoader' is deprecated, use 'loader.DataLoader' instead\n",
            "  warnings.warn(out)\n",
            "Epoch 1, batch loss: 0.9641247391700745: 100%|██████████| 1710/1710 [16:27<00:00,  1.73it/s]\n"
          ]
        },
        {
          "output_type": "stream",
          "name": "stdout",
          "text": [
            "Testing begins ...\n"
          ]
        },
        {
          "output_type": "stream",
          "name": "stderr",
          "text": [
            "\r  0%|          | 0/90 [00:00<?, ?it/s]/usr/local/lib/python3.11/dist-packages/scipy/sparse/_index.py:168: SparseEfficiencyWarning: Changing the sparsity structure of a csr_matrix is expensive. lil and dok are more efficient.\n",
            "  self._set_intXint(row, col, x.flat[0])\n",
            "/usr/local/lib/python3.11/dist-packages/scipy/sparse/_index.py:168: SparseEfficiencyWarning: Changing the sparsity structure of a csr_matrix is expensive. lil and dok are more efficient.\n",
            "  self._set_intXint(row, col, x.flat[0])\n",
            "100%|██████████| 90/90 [00:53<00:00,  1.68it/s]\n"
          ]
        },
        {
          "output_type": "stream",
          "name": "stdout",
          "text": [
            "Epoch 1, train loss 1.442910, test rmse 0.958908\n",
            "Saving model states...\n"
          ]
        },
        {
          "output_type": "stream",
          "name": "stderr",
          "text": [
            "Epoch 2, batch loss: 1.3795132637023926: 100%|██████████| 1710/1710 [16:35<00:00,  1.72it/s]\n"
          ]
        },
        {
          "output_type": "stream",
          "name": "stdout",
          "text": [
            "Testing begins ...\n"
          ]
        },
        {
          "output_type": "stream",
          "name": "stderr",
          "text": [
            "\r  0%|          | 0/90 [00:00<?, ?it/s]/usr/local/lib/python3.11/dist-packages/scipy/sparse/_index.py:168: SparseEfficiencyWarning: Changing the sparsity structure of a csr_matrix is expensive. lil and dok are more efficient.\n",
            "  self._set_intXint(row, col, x.flat[0])\n",
            "/usr/local/lib/python3.11/dist-packages/scipy/sparse/_index.py:168: SparseEfficiencyWarning: Changing the sparsity structure of a csr_matrix is expensive. lil and dok are more efficient.\n",
            "  self._set_intXint(row, col, x.flat[0])\n",
            "100%|██████████| 90/90 [00:42<00:00,  2.11it/s]\n"
          ]
        },
        {
          "output_type": "stream",
          "name": "stdout",
          "text": [
            "Epoch 2, train loss 1.131982, test rmse 0.965672\n",
            "Saving model states...\n"
          ]
        },
        {
          "output_type": "stream",
          "name": "stderr",
          "text": [
            "Epoch 3, batch loss: 1.105526089668274: 100%|██████████| 1710/1710 [16:23<00:00,  1.74it/s]\n"
          ]
        },
        {
          "output_type": "stream",
          "name": "stdout",
          "text": [
            "Testing begins ...\n"
          ]
        },
        {
          "output_type": "stream",
          "name": "stderr",
          "text": [
            "\r  0%|          | 0/90 [00:00<?, ?it/s]/usr/local/lib/python3.11/dist-packages/scipy/sparse/_index.py:168: SparseEfficiencyWarning: Changing the sparsity structure of a csr_matrix is expensive. lil and dok are more efficient.\n",
            "  self._set_intXint(row, col, x.flat[0])\n",
            "/usr/local/lib/python3.11/dist-packages/scipy/sparse/_index.py:168: SparseEfficiencyWarning: Changing the sparsity structure of a csr_matrix is expensive. lil and dok are more efficient.\n",
            "  self._set_intXint(row, col, x.flat[0])\n",
            "100%|██████████| 90/90 [00:41<00:00,  2.16it/s]\n"
          ]
        },
        {
          "output_type": "stream",
          "name": "stdout",
          "text": [
            "Epoch 3, train loss 1.059978, test rmse 0.950022\n",
            "Saving model states...\n"
          ]
        },
        {
          "output_type": "stream",
          "name": "stderr",
          "text": [
            "Epoch 4, batch loss: 0.8977870941162109: 100%|██████████| 1710/1710 [16:23<00:00,  1.74it/s]\n"
          ]
        },
        {
          "output_type": "stream",
          "name": "stdout",
          "text": [
            "Testing begins ...\n"
          ]
        },
        {
          "output_type": "stream",
          "name": "stderr",
          "text": [
            "100%|██████████| 90/90 [00:41<00:00,  2.18it/s]"
          ]
        },
        {
          "output_type": "stream",
          "name": "stdout",
          "text": [
            "Epoch 4, train loss 1.006462, test rmse 0.949491\n",
            "Saving model states...\n",
            "Final Test RMSE: 0.949491, Duration: 4129.132737\n"
          ]
        },
        {
          "output_type": "stream",
          "name": "stderr",
          "text": [
            "\n"
          ]
        },
        {
          "output_type": "execute_result",
          "data": {
            "text/plain": [
              "0.9494909776604139"
            ]
          },
          "metadata": {},
          "execution_count": 41
        }
      ]
    },
    {
      "cell_type": "code",
      "source": [
        "train_dataset"
      ],
      "metadata": {
        "colab": {
          "base_uri": "https://localhost:8080/"
        },
        "id": "rk3LAB0YQr0S",
        "outputId": "9d7974ba-813b-44a0-cc75-0bb4625779ba"
      },
      "execution_count": 95,
      "outputs": [
        {
          "output_type": "execute_result",
          "data": {
            "text/plain": [
              "MyDynamicDataset(85500)"
            ]
          },
          "metadata": {},
          "execution_count": 95
        }
      ]
    },
    {
      "cell_type": "code",
      "execution_count": 54,
      "metadata": {
        "colab": {
          "base_uri": "https://localhost:8080/"
        },
        "collapsed": true,
        "id": "8j_dk_SWxJqB",
        "outputId": "2940d23e-1767-4e79-994f-daab906b7252"
      },
      "outputs": [
        {
          "output_type": "stream",
          "name": "stderr",
          "text": [
            "/usr/local/lib/python3.11/dist-packages/torch_geometric/deprecation.py:26: UserWarning: 'data.DataLoader' is deprecated, use 'loader.DataLoader' instead\n",
            "  warnings.warn(out)\n",
            "Epoch 1, batch loss: 0.7401814460754395: 100%|██████████| 1710/1710 [13:20<00:00,  2.14it/s]\n"
          ]
        },
        {
          "output_type": "stream",
          "name": "stdout",
          "text": [
            "Testing begins ...\n"
          ]
        },
        {
          "output_type": "stream",
          "name": "stderr",
          "text": [
            "100%|██████████| 90/90 [00:34<00:00,  2.63it/s]\n"
          ]
        },
        {
          "output_type": "stream",
          "name": "stdout",
          "text": [
            "Epoch 1, train loss 1.413238, test rmse 0.967703\n",
            "Saving model states...\n"
          ]
        },
        {
          "output_type": "stream",
          "name": "stderr",
          "text": [
            "Epoch 2, batch loss: 1.0056556463241577: 100%|██████████| 1710/1710 [13:23<00:00,  2.13it/s]\n"
          ]
        },
        {
          "output_type": "stream",
          "name": "stdout",
          "text": [
            "Testing begins ...\n"
          ]
        },
        {
          "output_type": "stream",
          "name": "stderr",
          "text": [
            "100%|██████████| 90/90 [00:34<00:00,  2.58it/s]\n"
          ]
        },
        {
          "output_type": "stream",
          "name": "stdout",
          "text": [
            "Epoch 2, train loss 1.106439, test rmse 0.971735\n",
            "Saving model states...\n"
          ]
        },
        {
          "output_type": "stream",
          "name": "stderr",
          "text": [
            "Epoch 3, batch loss: 1.2211247682571411: 100%|██████████| 1710/1710 [13:22<00:00,  2.13it/s]\n"
          ]
        },
        {
          "output_type": "stream",
          "name": "stdout",
          "text": [
            "Testing begins ...\n"
          ]
        },
        {
          "output_type": "stream",
          "name": "stderr",
          "text": [
            "100%|██████████| 90/90 [00:33<00:00,  2.70it/s]\n"
          ]
        },
        {
          "output_type": "stream",
          "name": "stdout",
          "text": [
            "Epoch 3, train loss 1.041574, test rmse 0.954720\n",
            "Saving model states...\n"
          ]
        },
        {
          "output_type": "stream",
          "name": "stderr",
          "text": [
            "Epoch 4, batch loss: 0.9700291156768799: 100%|██████████| 1710/1710 [13:21<00:00,  2.13it/s]\n"
          ]
        },
        {
          "output_type": "stream",
          "name": "stdout",
          "text": [
            "Testing begins ...\n"
          ]
        },
        {
          "output_type": "stream",
          "name": "stderr",
          "text": [
            "100%|██████████| 90/90 [00:34<00:00,  2.62it/s]\n"
          ]
        },
        {
          "output_type": "stream",
          "name": "stdout",
          "text": [
            "Epoch 4, train loss 0.996284, test rmse 0.945265\n",
            "Saving model states...\n"
          ]
        },
        {
          "output_type": "stream",
          "name": "stderr",
          "text": [
            "Epoch 5, batch loss: 0.9946835041046143: 100%|██████████| 1710/1710 [13:18<00:00,  2.14it/s]\n"
          ]
        },
        {
          "output_type": "stream",
          "name": "stdout",
          "text": [
            "Testing begins ...\n"
          ]
        },
        {
          "output_type": "stream",
          "name": "stderr",
          "text": [
            "100%|██████████| 90/90 [00:33<00:00,  2.70it/s]\n"
          ]
        },
        {
          "output_type": "stream",
          "name": "stdout",
          "text": [
            "Epoch 5, train loss 0.970974, test rmse 0.966320\n",
            "Saving model states...\n"
          ]
        },
        {
          "output_type": "stream",
          "name": "stderr",
          "text": [
            "Epoch 6, batch loss: 0.9443041086196899: 100%|██████████| 1710/1710 [13:14<00:00,  2.15it/s]\n"
          ]
        },
        {
          "output_type": "stream",
          "name": "stdout",
          "text": [
            "Testing begins ...\n"
          ]
        },
        {
          "output_type": "stream",
          "name": "stderr",
          "text": [
            "100%|██████████| 90/90 [00:32<00:00,  2.73it/s]\n"
          ]
        },
        {
          "output_type": "stream",
          "name": "stdout",
          "text": [
            "Epoch 6, train loss 0.948634, test rmse 0.946422\n",
            "Saving model states...\n"
          ]
        },
        {
          "output_type": "stream",
          "name": "stderr",
          "text": [
            "Epoch 7, batch loss: 0.7343096137046814: 100%|██████████| 1710/1710 [13:24<00:00,  2.13it/s]\n"
          ]
        },
        {
          "output_type": "stream",
          "name": "stdout",
          "text": [
            "Testing begins ...\n"
          ]
        },
        {
          "output_type": "stream",
          "name": "stderr",
          "text": [
            "100%|██████████| 90/90 [00:34<00:00,  2.62it/s]\n"
          ]
        },
        {
          "output_type": "stream",
          "name": "stdout",
          "text": [
            "Epoch 7, train loss 0.930338, test rmse 0.940058\n",
            "Saving model states...\n"
          ]
        },
        {
          "output_type": "stream",
          "name": "stderr",
          "text": [
            "Epoch 8, batch loss: 0.5751648545265198: 100%|██████████| 1710/1710 [13:23<00:00,  2.13it/s]\n"
          ]
        },
        {
          "output_type": "stream",
          "name": "stdout",
          "text": [
            "Testing begins ...\n"
          ]
        },
        {
          "output_type": "stream",
          "name": "stderr",
          "text": [
            "100%|██████████| 90/90 [00:34<00:00,  2.61it/s]\n"
          ]
        },
        {
          "output_type": "stream",
          "name": "stdout",
          "text": [
            "Epoch 8, train loss 0.919776, test rmse 0.939685\n",
            "Saving model states...\n"
          ]
        },
        {
          "output_type": "stream",
          "name": "stderr",
          "text": [
            "Epoch 9, batch loss: 1.2029987573623657: 100%|██████████| 1710/1710 [13:20<00:00,  2.14it/s]\n"
          ]
        },
        {
          "output_type": "stream",
          "name": "stdout",
          "text": [
            "Testing begins ...\n"
          ]
        },
        {
          "output_type": "stream",
          "name": "stderr",
          "text": [
            "100%|██████████| 90/90 [00:34<00:00,  2.63it/s]\n"
          ]
        },
        {
          "output_type": "stream",
          "name": "stdout",
          "text": [
            "Epoch 9, train loss 0.909097, test rmse 0.940580\n",
            "Saving model states...\n"
          ]
        },
        {
          "output_type": "stream",
          "name": "stderr",
          "text": [
            "Epoch 10, batch loss: 0.8637780547142029: 100%|██████████| 1710/1710 [13:17<00:00,  2.14it/s]\n"
          ]
        },
        {
          "output_type": "stream",
          "name": "stdout",
          "text": [
            "Testing begins ...\n"
          ]
        },
        {
          "output_type": "stream",
          "name": "stderr",
          "text": [
            "100%|██████████| 90/90 [00:33<00:00,  2.70it/s]"
          ]
        },
        {
          "output_type": "stream",
          "name": "stdout",
          "text": [
            "Epoch 10, train loss 0.902443, test rmse 0.932725\n",
            "Saving model states...\n",
            "Final Test RMSE: 0.932725, Duration: 8347.124960\n"
          ]
        },
        {
          "output_type": "stream",
          "name": "stderr",
          "text": [
            "\n"
          ]
        },
        {
          "output_type": "execute_result",
          "data": {
            "text/plain": [
              "0.9327254445603402"
            ]
          },
          "metadata": {},
          "execution_count": 54
        }
      ],
      "source": [
        "args = {\n",
        "    'save_interval': 1\n",
        "}\n",
        "train_multiple_epochs(\n",
        "        train_dataset,\n",
        "        val_dataset,\n",
        "        model,\n",
        "        10,\n",
        "        50,\n",
        "        1e-3,\n",
        "        lr_decay_factor = 0.1 ,\n",
        "        lr_decay_step_size = 20,\n",
        "        weight_decay = 0,\n",
        "        ARR = 0.001,\n",
        "        test_freq = 1,\n",
        "        logger = logger,\n",
        "        continue_from = None,\n",
        "        res_dir= train_root,\n",
        "        cpu_only = True\n",
        "    )"
      ]
    },
    {
      "cell_type": "markdown",
      "metadata": {
        "id": "NZz1ZQfzZ-wH"
      },
      "source": [
        " # Evaluation"
      ]
    },
    {
      "cell_type": "code",
      "execution_count": 55,
      "metadata": {
        "colab": {
          "base_uri": "https://localhost:8080/"
        },
        "collapsed": true,
        "id": "1LCW_nm0aX6z",
        "outputId": "ba16ec6f-29f0-4bac-8ee0-79bb18b28675"
      },
      "outputs": [
        {
          "output_type": "stream",
          "name": "stderr",
          "text": [
            "/usr/local/lib/python3.11/dist-packages/torch_geometric/deprecation.py:26: UserWarning: 'data.DataLoader' is deprecated, use 'loader.DataLoader' instead\n",
            "  warnings.warn(out)\n"
          ]
        },
        {
          "output_type": "stream",
          "name": "stdout",
          "text": [
            "Testing begins ...\n"
          ]
        },
        {
          "output_type": "stream",
          "name": "stderr",
          "text": [
            "100%|██████████| 1000/1000 [01:31<00:00, 10.94it/s]"
          ]
        },
        {
          "output_type": "stream",
          "name": "stdout",
          "text": [
            "Test Once RMSE: 0.925555, Duration: 91.438086\n"
          ]
        },
        {
          "output_type": "stream",
          "name": "stderr",
          "text": [
            "\n"
          ]
        },
        {
          "output_type": "execute_result",
          "data": {
            "text/plain": [
              "0.9255553138949039"
            ]
          },
          "metadata": {},
          "execution_count": 55
        }
      ],
      "source": [
        "test_once(test_dataset, model, batch_size=10)"
      ]
    },
    {
      "cell_type": "code",
      "execution_count": 74,
      "metadata": {
        "id": "Hn_L862ETxMO"
      },
      "outputs": [],
      "source": [
        "import numpy as np\n",
        "def get_user_recommendations(user_id, model, device, dataset, adj_matrix, u_features, v_features, class_values, top_k=10, h=1, sample_ratio=1.0, max_nodes_per_hop=100):\n",
        "  # Map the original user ID to the internal ID used in the model\n",
        "  data_array = dataset.ratings_df.values.tolist()\n",
        "  u_nodes_ratings = np.array(data_array)[:, 0].astype(np.int32)\n",
        "  _, u_dict, _ = map_data(u_nodes_ratings)\n",
        "\n",
        "  if user_id not in u_dict:\n",
        "    print(f\"User ID {user_id} not found in the dataset.\")\n",
        "    return []\n",
        "\n",
        "  internal_user_id = u_dict[user_id]\n",
        "\n",
        "  # Get all movies the user has NOT rated\n",
        "  rated_movies = dataset.ratings_df[dataset.ratings_df['u_nodes'] == user_id]['v_nodes'].values.tolist()\n",
        "  all_movie_ids = dataset.movies_df['movie_id'].values.tolist()\n",
        "  unrated_movie_ids = [movie_id for movie_id in all_movie_ids if movie_id not in rated_movies]\n",
        "\n",
        "  # Map original unrated movie IDs to internal IDs\n",
        "  data_array = dataset.ratings_df.values.tolist()\n",
        "  v_nodes_ratings = np.array(data_array)[:, 1].astype(np.int32)\n",
        "  _, v_dict, _ = map_data(v_nodes_ratings)\n",
        "\n",
        "  internal_unrated_movie_ids = [v_dict[movie_id] for movie_id in unrated_movie_ids if movie_id in v_dict]\n",
        "  original_unrated_movie_ids = [movie_id for movie_id in unrated_movie_ids if movie_id in v_dict] # Keep track of original IDs\n",
        "\n",
        "  if not internal_unrated_movie_ids:\n",
        "    print(f\"User ID {user_id} has rated all movies or no unrated movies found in the dataset.\")\n",
        "    return []\n",
        "\n",
        "  # Create link indices and dummy labels for the unrated movies\n",
        "  links_to_predict = (np.array([internal_user_id] * len(internal_unrated_movie_ids)), np.array(internal_unrated_movie_ids))\n",
        "  dummy_labels = np.zeros(len(internal_unrated_movie_ids), dtype=np.int32) # Labels don't matter for prediction\n",
        "\n",
        "  # Create a dynamic dataset for the links to predict\n",
        "  predict_dataset = MyDynamicDataset(\n",
        "      root='ml-1m/predict',\n",
        "      A=adj_matrix,\n",
        "      links=links_to_predict,\n",
        "      labels=dummy_labels,\n",
        "      h=h,\n",
        "      sample_ratio=sample_ratio,\n",
        "      max_nodes_per_hop=max_nodes_per_hop,\n",
        "      u_features=u_features,\n",
        "      v_features=v_features,\n",
        "      class_values=class_values,\n",
        "      max_num=None\n",
        "  )\n",
        "\n",
        "  predict_loader = DataLoader(test_dataset, batch_size=50, shuffle=False, num_workers=2)\n",
        "\n",
        "  model.eval()\n",
        "  predictions = []\n",
        "  with torch.no_grad():\n",
        "    for data in predict_loader:\n",
        "      data = data.to(device)\n",
        "      out = model(data)\n",
        "      predictions.extend(out.cpu().numpy())\n",
        "\n",
        "  # Get the predicted ratings and sort movies by predicted rating\n",
        "  predicted_ratings = np.array(predictions)\n",
        "  sorted_movie_indices = np.argsort(predicted_ratings)[::-1] # Descending order\n",
        "\n",
        "  # Get the top N recommended movie original IDs\n",
        "  top_n = 10 # You can adjust this\n",
        "  top_movie_internal_ids = np.array(internal_unrated_movie_ids)[sorted_movie_indices[:top_n]]\n",
        "  top_movie_original_ids = [original_unrated_movie_ids[internal_unrated_movie_ids.index(internal_id)] for internal_id in top_movie_internal_ids]\n",
        "\n",
        "  # Get the movie titles\n",
        "  recommended_movie_titles = dataset.movies_df[dataset.movies_df['movie_id'].isin(top_movie_original_ids)]['title'].values.tolist()\n",
        "\n",
        "  return recommended_movie_titles"
      ]
    },
    {
      "cell_type": "code",
      "execution_count": null,
      "metadata": {
        "id": "nzfNPy_xgVNF",
        "collapsed": true
      },
      "outputs": [],
      "source": [
        "user_id_to_recommend = 1\n",
        "recommendations = get_user_recommendations(user_id_to_recommend, model, device, dataset, adj_train, u_features, v_features, class_values)\n",
        "print(f\"Recommendations for user {user_id_to_recommend}:\")\n",
        "for movie_title in recommendations:\n",
        "  print(f\"- {movie_title}\")"
      ]
    },
    {
      "cell_type": "code",
      "source": [
        "import numpy as np\n",
        "def precision_at_k(predicted_ratings, true_labels, k=10):\n",
        "  # Sort by predicted rating in descending order and take the top k\n",
        "  top_k_indices = np.argsort(predicted_ratings)[::-1][:k]\n",
        "  top_k_true_labels = true_labels[top_k_indices]\n",
        "\n",
        "  # Calculate the number of relevant items in the top k\n",
        "  relevant_in_top_k = np.sum(top_k_true_labels)\n",
        "\n",
        "  # Precision@K is the number of relevant items in the top k divided by k\n",
        "  return relevant_in_top_k / k\n",
        "\n",
        "relevance_threshold = 4\n",
        "binary_true_labels = (test_labels >= relevance_threshold).astype(int)\n",
        "\n",
        "# Get the predicted ratings from the model on the test dataset\n",
        "model.eval()\n",
        "predicted_ratings_list = []\n",
        "test_loader_pk = DataLoader(test_dataset, batch_size=10, shuffle=False) # Use a suitable batch size\n",
        "with torch.no_grad():\n",
        "  for data in test_loader_pk:\n",
        "    data = data.to(device)\n",
        "    out = model(data)\n",
        "    predicted_ratings_list.extend(out.cpu().numpy())\n",
        "\n",
        "predicted_ratings_array = np.array(predicted_ratings_list)\n",
        "\n",
        "# Calculate Precision@10\n",
        "precision_k = precision_at_k(predicted_ratings_array, binary_true_labels, k=30)\n",
        "\n",
        "print(f\"Precision@30: {precision_k:.4f}\")\n"
      ],
      "metadata": {
        "collapsed": true,
        "colab": {
          "base_uri": "https://localhost:8080/"
        },
        "id": "m1pmrjmA6SkO",
        "outputId": "eb872baf-f61b-4718-fa3f-de1def1df293"
      },
      "execution_count": 59,
      "outputs": [
        {
          "output_type": "stream",
          "name": "stdout",
          "text": [
            "Precision@30: 0.9000\n"
          ]
        }
      ]
    },
    {
      "cell_type": "code",
      "source": [
        "from sklearn.metrics import average_precision_score\n",
        "\n",
        "def calculate_ap_at_k(predicted_ratings, true_labels, k=10):\n",
        "  \"\"\"Calculates Average Precision at k for a single user.\"\"\"\n",
        "  # Sort by predicted rating in descending order and take the top k\n",
        "  top_k_indices = np.argsort(predicted_ratings)[::-1][:k]\n",
        "  top_k_true_labels = true_labels[top_k_indices]\n",
        "  top_k_predicted_scores = predicted_ratings[top_k_indices]\n",
        "\n",
        "  # Check if there are any relevant items in the top k\n",
        "  if np.sum(top_k_true_labels) == 0:\n",
        "    return 0.0\n",
        "\n",
        "  # Calculate Average Precision using sklearn's function\n",
        "  # Note: average_precision_score expects the true labels to be 0 or 1\n",
        "  return average_precision_score(top_k_true_labels, top_k_predicted_scores)\n",
        "\n",
        "def calculate_map_at_k(model, dataset, adj_matrix, u_features, v_features, class_values, test_df, k=10, h=1, sample_ratio=1.0, max_nodes_per_hop=100, relevance_threshold=4):\n",
        "    \"\"\"Calculates Mean Average Precision at k for all users in the test set.\"\"\"\n",
        "    model.eval()\n",
        "    user_aps = []\n",
        "\n",
        "    # Map the original user IDs to the internal IDs used in the model\n",
        "    data_array_ratings = dataset.ratings_df.values.tolist()\n",
        "    u_nodes_ratings = np.array(data_array_ratings)[:, 0].astype(np.int32)\n",
        "    _, u_dict, _ = map_data(u_nodes_ratings)\n",
        "\n",
        "    data_array_movies = dataset.movies_df.values.tolist()\n",
        "    all_movie_ids = np.array(data_array_movies)[:, 0].astype(np.int32)\n",
        "    _, v_dict, _ = map_data(np.array(data_array_ratings)[:, 1].astype(np.int32))\n",
        "\n",
        "    unique_test_users = test_df['u_nodes'].unique()\n",
        "\n",
        "    print(f\"Calculating mAP@{k} for {len(unique_test_users)} users...\")\n",
        "\n",
        "    for original_user_id in tqdm(unique_test_users):\n",
        "        if original_user_id not in u_dict:\n",
        "          continue\n",
        "        internal_user_id = u_dict[original_user_id]\n",
        "\n",
        "        # Get all movies the user has NOT rated (in the full dataset)\n",
        "        rated_movies = dataset.ratings_df[dataset.ratings_df['u_nodes'] == original_user_id]['v_nodes'].values.tolist()\n",
        "        unrated_movie_ids = [movie_id for movie_id in all_movie_ids if movie_id not in rated_movies]\n",
        "\n",
        "        # Map original unrated movie IDs to internal IDs\n",
        "        internal_unrated_movie_ids = [v_dict[movie_id] for movie_id in unrated_movie_ids if movie_id in v_dict]\n",
        "        original_unrated_movie_ids = [movie_id for movie_id in unrated_movie_ids if movie_id in v_dict]\n",
        "\n",
        "        if not internal_unrated_movie_ids:\n",
        "            continue\n",
        "\n",
        "        # Create link indices and dummy labels for the unrated movies for prediction\n",
        "        links_to_predict = (np.array([internal_user_id] * len(internal_unrated_movie_ids)), np.array(internal_unrated_movie_ids))\n",
        "        dummy_labels = np.zeros(len(internal_unrated_movie_ids), dtype=np.int32)\n",
        "\n",
        "        # Create a dynamic dataset for the links to predict\n",
        "        dummy_root = f'ml-1m/predict_temp_user_{original_user_id}'\n",
        "        os.makedirs(dummy_root, exist_ok=True)\n",
        "\n",
        "        predict_dataset = MyDynamicDataset(\n",
        "            root=dummy_root,\n",
        "            A=adj_matrix,\n",
        "            links=links_to_predict,\n",
        "            labels=dummy_labels, # Labels are not used for prediction\n",
        "            h=h,\n",
        "            sample_ratio=sample_ratio,\n",
        "            max_nodes_per_hop=max_nodes_per_hop,\n",
        "            u_features=u_features,\n",
        "            v_features=v_features,\n",
        "            class_values=class_values,\n",
        "            max_num=None\n",
        "        )\n",
        "\n",
        "        predict_loader = DataLoader(predict_dataset, batch_size=50, shuffle=False, num_workers=2)\n",
        "\n",
        "        predictions = []\n",
        "        with torch.no_grad():\n",
        "            for data in predict_loader:\n",
        "                data = data.to(device)\n",
        "                out = model(data)\n",
        "                predictions.extend(out.cpu().numpy())\n",
        "\n",
        "        predicted_ratings_array = np.array(predictions)\n",
        "\n",
        "        # Get the true ratings for these unrated movies from the test set\n",
        "        # We need to link the predictions back to the original movie IDs to find their true ratings in the test set\n",
        "        # Note: This assumes that the unrated movies for a user might appear in the test set for that user.\n",
        "        # A more rigorous approach would involve using the test set links directly for evaluation.\n",
        "        # For simplicity here, we'll check if the unrated movie is in the test set and use its rating if available.\n",
        "\n",
        "        # Get the actual ratings for the unrated movies from the test set for this specific user\n",
        "        user_test_ratings = test_df[test_df['u_nodes'] == original_user_id]\n",
        "        user_test_movie_ids = user_test_ratings['v_nodes'].values\n",
        "        user_test_actual_ratings = user_test_ratings['ratings'].values\n",
        "\n",
        "        # Create true labels (0 or 1) for the unrated movies based on the relevance threshold\n",
        "        true_labels_for_unrated = np.zeros(len(original_unrated_movie_ids), dtype=int)\n",
        "        for i, movie_id in enumerate(original_unrated_movie_ids):\n",
        "            if movie_id in user_test_movie_ids:\n",
        "                actual_rating = user_test_actual_ratings[user_test_movie_ids == movie_id][0]\n",
        "                if actual_rating >= relevance_threshold:\n",
        "                    true_labels_for_unrated[i] = 1\n",
        "\n",
        "        # Calculate AP for the current user\n",
        "        if len(predicted_ratings_array) > 0: # Ensure there are predictions to evaluate\n",
        "             user_ap = calculate_ap_at_k(predicted_ratings_array, true_labels_for_unrated, k=k)\n",
        "             user_aps.append(user_ap)\n",
        "\n",
        "        # Clean up the temporary directory\n",
        "        # !rm -rf {dummy_root} # This might be slow for many users. Consider cleaning up after the loop if needed.\n",
        "\n",
        "    if not user_aps:\n",
        "        return 0.0 # Avoid division by zero\n",
        "\n",
        "    # Calculate Mean Average Precision\n",
        "    mAP = np.mean(user_aps)\n",
        "    return mAP"
      ],
      "metadata": {
        "id": "oKlcxGdu7uMM"
      },
      "execution_count": 7,
      "outputs": []
    },
    {
      "cell_type": "code",
      "source": [
        "k=10\n",
        "relevance_threshold = 4\n",
        "binary_true_labels = (test_labels >= relevance_threshold).astype(int)\n",
        "\n",
        "# Get the predicted ratings from the model on the test dataset\n",
        "model.eval()\n",
        "predicted_ratings_list = []\n",
        "test_loader_pk = DataLoader(test_dataset, batch_size=10, shuffle=False) # Use a suitable batch size\n",
        "with torch.no_grad():\n",
        "  for data in test_loader_pk:\n",
        "    data = data.to(device)\n",
        "    out = model(data)\n",
        "    predicted_ratings_list.extend(out.cpu().numpy())\n",
        "\n",
        "predicted_ratings_array = np.array(predicted_ratings_list)\n",
        "precision_k = calculate_ap_at_k(predicted_ratings_array, binary_true_labels, k=k)\n",
        "\n",
        "print(f\"Precision@30: {precision_k:.4f}\")"
      ],
      "metadata": {
        "id": "nSx1udot7z0J",
        "outputId": "8c79db31-14ef-4c72-98a5-8a4aa4f9a233",
        "colab": {
          "base_uri": "https://localhost:8080/"
        }
      },
      "execution_count": 43,
      "outputs": [
        {
          "output_type": "stream",
          "name": "stderr",
          "text": [
            "/usr/local/lib/python3.11/dist-packages/torch_geometric/deprecation.py:26: UserWarning: 'data.DataLoader' is deprecated, use 'loader.DataLoader' instead\n",
            "  warnings.warn(out)\n",
            "/usr/local/lib/python3.11/dist-packages/scipy/sparse/_index.py:168: SparseEfficiencyWarning: Changing the sparsity structure of a csr_matrix is expensive. lil and dok are more efficient.\n",
            "  self._set_intXint(row, col, x.flat[0])\n",
            "/usr/local/lib/python3.11/dist-packages/scipy/sparse/_index.py:168: SparseEfficiencyWarning: Changing the sparsity structure of a csr_matrix is expensive. lil and dok are more efficient.\n",
            "  self._set_intXint(row, col, x.flat[0])\n",
            "/usr/local/lib/python3.11/dist-packages/scipy/sparse/_index.py:168: SparseEfficiencyWarning: Changing the sparsity structure of a csr_matrix is expensive. lil and dok are more efficient.\n",
            "  self._set_intXint(row, col, x.flat[0])\n",
            "/usr/local/lib/python3.11/dist-packages/scipy/sparse/_index.py:168: SparseEfficiencyWarning: Changing the sparsity structure of a csr_matrix is expensive. lil and dok are more efficient.\n",
            "  self._set_intXint(row, col, x.flat[0])\n",
            "/usr/local/lib/python3.11/dist-packages/scipy/sparse/_index.py:168: SparseEfficiencyWarning: Changing the sparsity structure of a csr_matrix is expensive. lil and dok are more efficient.\n",
            "  self._set_intXint(row, col, x.flat[0])\n",
            "/usr/local/lib/python3.11/dist-packages/scipy/sparse/_index.py:168: SparseEfficiencyWarning: Changing the sparsity structure of a csr_matrix is expensive. lil and dok are more efficient.\n",
            "  self._set_intXint(row, col, x.flat[0])\n",
            "/usr/local/lib/python3.11/dist-packages/scipy/sparse/_index.py:168: SparseEfficiencyWarning: Changing the sparsity structure of a csr_matrix is expensive. lil and dok are more efficient.\n",
            "  self._set_intXint(row, col, x.flat[0])\n",
            "/usr/local/lib/python3.11/dist-packages/scipy/sparse/_index.py:168: SparseEfficiencyWarning: Changing the sparsity structure of a csr_matrix is expensive. lil and dok are more efficient.\n",
            "  self._set_intXint(row, col, x.flat[0])\n",
            "/usr/local/lib/python3.11/dist-packages/scipy/sparse/_index.py:168: SparseEfficiencyWarning: Changing the sparsity structure of a csr_matrix is expensive. lil and dok are more efficient.\n",
            "  self._set_intXint(row, col, x.flat[0])\n",
            "/usr/local/lib/python3.11/dist-packages/scipy/sparse/_index.py:168: SparseEfficiencyWarning: Changing the sparsity structure of a csr_matrix is expensive. lil and dok are more efficient.\n",
            "  self._set_intXint(row, col, x.flat[0])\n",
            "/usr/local/lib/python3.11/dist-packages/scipy/sparse/_index.py:168: SparseEfficiencyWarning: Changing the sparsity structure of a csr_matrix is expensive. lil and dok are more efficient.\n",
            "  self._set_intXint(row, col, x.flat[0])\n",
            "/usr/local/lib/python3.11/dist-packages/scipy/sparse/_index.py:168: SparseEfficiencyWarning: Changing the sparsity structure of a csr_matrix is expensive. lil and dok are more efficient.\n",
            "  self._set_intXint(row, col, x.flat[0])\n",
            "/usr/local/lib/python3.11/dist-packages/scipy/sparse/_index.py:168: SparseEfficiencyWarning: Changing the sparsity structure of a csr_matrix is expensive. lil and dok are more efficient.\n",
            "  self._set_intXint(row, col, x.flat[0])\n",
            "/usr/local/lib/python3.11/dist-packages/scipy/sparse/_index.py:168: SparseEfficiencyWarning: Changing the sparsity structure of a csr_matrix is expensive. lil and dok are more efficient.\n",
            "  self._set_intXint(row, col, x.flat[0])\n",
            "/usr/local/lib/python3.11/dist-packages/scipy/sparse/_index.py:168: SparseEfficiencyWarning: Changing the sparsity structure of a csr_matrix is expensive. lil and dok are more efficient.\n",
            "  self._set_intXint(row, col, x.flat[0])\n",
            "/usr/local/lib/python3.11/dist-packages/scipy/sparse/_index.py:168: SparseEfficiencyWarning: Changing the sparsity structure of a csr_matrix is expensive. lil and dok are more efficient.\n",
            "  self._set_intXint(row, col, x.flat[0])\n",
            "/usr/local/lib/python3.11/dist-packages/scipy/sparse/_index.py:168: SparseEfficiencyWarning: Changing the sparsity structure of a csr_matrix is expensive. lil and dok are more efficient.\n",
            "  self._set_intXint(row, col, x.flat[0])\n",
            "/usr/local/lib/python3.11/dist-packages/scipy/sparse/_index.py:168: SparseEfficiencyWarning: Changing the sparsity structure of a csr_matrix is expensive. lil and dok are more efficient.\n",
            "  self._set_intXint(row, col, x.flat[0])\n",
            "/usr/local/lib/python3.11/dist-packages/scipy/sparse/_index.py:168: SparseEfficiencyWarning: Changing the sparsity structure of a csr_matrix is expensive. lil and dok are more efficient.\n",
            "  self._set_intXint(row, col, x.flat[0])\n",
            "/usr/local/lib/python3.11/dist-packages/scipy/sparse/_index.py:168: SparseEfficiencyWarning: Changing the sparsity structure of a csr_matrix is expensive. lil and dok are more efficient.\n",
            "  self._set_intXint(row, col, x.flat[0])\n",
            "/usr/local/lib/python3.11/dist-packages/scipy/sparse/_index.py:168: SparseEfficiencyWarning: Changing the sparsity structure of a csr_matrix is expensive. lil and dok are more efficient.\n",
            "  self._set_intXint(row, col, x.flat[0])\n",
            "/usr/local/lib/python3.11/dist-packages/scipy/sparse/_index.py:168: SparseEfficiencyWarning: Changing the sparsity structure of a csr_matrix is expensive. lil and dok are more efficient.\n",
            "  self._set_intXint(row, col, x.flat[0])\n",
            "/usr/local/lib/python3.11/dist-packages/scipy/sparse/_index.py:168: SparseEfficiencyWarning: Changing the sparsity structure of a csr_matrix is expensive. lil and dok are more efficient.\n",
            "  self._set_intXint(row, col, x.flat[0])\n",
            "/usr/local/lib/python3.11/dist-packages/scipy/sparse/_index.py:168: SparseEfficiencyWarning: Changing the sparsity structure of a csr_matrix is expensive. lil and dok are more efficient.\n",
            "  self._set_intXint(row, col, x.flat[0])\n",
            "/usr/local/lib/python3.11/dist-packages/scipy/sparse/_index.py:168: SparseEfficiencyWarning: Changing the sparsity structure of a csr_matrix is expensive. lil and dok are more efficient.\n",
            "  self._set_intXint(row, col, x.flat[0])\n",
            "/usr/local/lib/python3.11/dist-packages/scipy/sparse/_index.py:168: SparseEfficiencyWarning: Changing the sparsity structure of a csr_matrix is expensive. lil and dok are more efficient.\n",
            "  self._set_intXint(row, col, x.flat[0])\n",
            "/usr/local/lib/python3.11/dist-packages/scipy/sparse/_index.py:168: SparseEfficiencyWarning: Changing the sparsity structure of a csr_matrix is expensive. lil and dok are more efficient.\n",
            "  self._set_intXint(row, col, x.flat[0])\n",
            "/usr/local/lib/python3.11/dist-packages/scipy/sparse/_index.py:168: SparseEfficiencyWarning: Changing the sparsity structure of a csr_matrix is expensive. lil and dok are more efficient.\n",
            "  self._set_intXint(row, col, x.flat[0])\n",
            "/usr/local/lib/python3.11/dist-packages/scipy/sparse/_index.py:168: SparseEfficiencyWarning: Changing the sparsity structure of a csr_matrix is expensive. lil and dok are more efficient.\n",
            "  self._set_intXint(row, col, x.flat[0])\n",
            "/usr/local/lib/python3.11/dist-packages/scipy/sparse/_index.py:168: SparseEfficiencyWarning: Changing the sparsity structure of a csr_matrix is expensive. lil and dok are more efficient.\n",
            "  self._set_intXint(row, col, x.flat[0])\n",
            "/usr/local/lib/python3.11/dist-packages/scipy/sparse/_index.py:168: SparseEfficiencyWarning: Changing the sparsity structure of a csr_matrix is expensive. lil and dok are more efficient.\n",
            "  self._set_intXint(row, col, x.flat[0])\n",
            "/usr/local/lib/python3.11/dist-packages/scipy/sparse/_index.py:168: SparseEfficiencyWarning: Changing the sparsity structure of a csr_matrix is expensive. lil and dok are more efficient.\n",
            "  self._set_intXint(row, col, x.flat[0])\n",
            "/usr/local/lib/python3.11/dist-packages/scipy/sparse/_index.py:168: SparseEfficiencyWarning: Changing the sparsity structure of a csr_matrix is expensive. lil and dok are more efficient.\n",
            "  self._set_intXint(row, col, x.flat[0])\n",
            "/usr/local/lib/python3.11/dist-packages/scipy/sparse/_index.py:168: SparseEfficiencyWarning: Changing the sparsity structure of a csr_matrix is expensive. lil and dok are more efficient.\n",
            "  self._set_intXint(row, col, x.flat[0])\n",
            "/usr/local/lib/python3.11/dist-packages/scipy/sparse/_index.py:168: SparseEfficiencyWarning: Changing the sparsity structure of a csr_matrix is expensive. lil and dok are more efficient.\n",
            "  self._set_intXint(row, col, x.flat[0])\n",
            "/usr/local/lib/python3.11/dist-packages/scipy/sparse/_index.py:168: SparseEfficiencyWarning: Changing the sparsity structure of a csr_matrix is expensive. lil and dok are more efficient.\n",
            "  self._set_intXint(row, col, x.flat[0])\n",
            "/usr/local/lib/python3.11/dist-packages/scipy/sparse/_index.py:168: SparseEfficiencyWarning: Changing the sparsity structure of a csr_matrix is expensive. lil and dok are more efficient.\n",
            "  self._set_intXint(row, col, x.flat[0])\n",
            "/usr/local/lib/python3.11/dist-packages/scipy/sparse/_index.py:168: SparseEfficiencyWarning: Changing the sparsity structure of a csr_matrix is expensive. lil and dok are more efficient.\n",
            "  self._set_intXint(row, col, x.flat[0])\n",
            "/usr/local/lib/python3.11/dist-packages/scipy/sparse/_index.py:168: SparseEfficiencyWarning: Changing the sparsity structure of a csr_matrix is expensive. lil and dok are more efficient.\n",
            "  self._set_intXint(row, col, x.flat[0])\n",
            "/usr/local/lib/python3.11/dist-packages/scipy/sparse/_index.py:168: SparseEfficiencyWarning: Changing the sparsity structure of a csr_matrix is expensive. lil and dok are more efficient.\n",
            "  self._set_intXint(row, col, x.flat[0])\n",
            "/usr/local/lib/python3.11/dist-packages/scipy/sparse/_index.py:168: SparseEfficiencyWarning: Changing the sparsity structure of a csr_matrix is expensive. lil and dok are more efficient.\n",
            "  self._set_intXint(row, col, x.flat[0])\n",
            "/usr/local/lib/python3.11/dist-packages/scipy/sparse/_index.py:168: SparseEfficiencyWarning: Changing the sparsity structure of a csr_matrix is expensive. lil and dok are more efficient.\n",
            "  self._set_intXint(row, col, x.flat[0])\n",
            "/usr/local/lib/python3.11/dist-packages/scipy/sparse/_index.py:168: SparseEfficiencyWarning: Changing the sparsity structure of a csr_matrix is expensive. lil and dok are more efficient.\n",
            "  self._set_intXint(row, col, x.flat[0])\n",
            "/usr/local/lib/python3.11/dist-packages/scipy/sparse/_index.py:168: SparseEfficiencyWarning: Changing the sparsity structure of a csr_matrix is expensive. lil and dok are more efficient.\n",
            "  self._set_intXint(row, col, x.flat[0])\n",
            "/usr/local/lib/python3.11/dist-packages/scipy/sparse/_index.py:168: SparseEfficiencyWarning: Changing the sparsity structure of a csr_matrix is expensive. lil and dok are more efficient.\n",
            "  self._set_intXint(row, col, x.flat[0])\n",
            "/usr/local/lib/python3.11/dist-packages/scipy/sparse/_index.py:168: SparseEfficiencyWarning: Changing the sparsity structure of a csr_matrix is expensive. lil and dok are more efficient.\n",
            "  self._set_intXint(row, col, x.flat[0])\n",
            "/usr/local/lib/python3.11/dist-packages/scipy/sparse/_index.py:168: SparseEfficiencyWarning: Changing the sparsity structure of a csr_matrix is expensive. lil and dok are more efficient.\n",
            "  self._set_intXint(row, col, x.flat[0])\n",
            "/usr/local/lib/python3.11/dist-packages/scipy/sparse/_index.py:168: SparseEfficiencyWarning: Changing the sparsity structure of a csr_matrix is expensive. lil and dok are more efficient.\n",
            "  self._set_intXint(row, col, x.flat[0])\n",
            "/usr/local/lib/python3.11/dist-packages/scipy/sparse/_index.py:168: SparseEfficiencyWarning: Changing the sparsity structure of a csr_matrix is expensive. lil and dok are more efficient.\n",
            "  self._set_intXint(row, col, x.flat[0])\n",
            "/usr/local/lib/python3.11/dist-packages/scipy/sparse/_index.py:168: SparseEfficiencyWarning: Changing the sparsity structure of a csr_matrix is expensive. lil and dok are more efficient.\n",
            "  self._set_intXint(row, col, x.flat[0])\n",
            "/usr/local/lib/python3.11/dist-packages/scipy/sparse/_index.py:168: SparseEfficiencyWarning: Changing the sparsity structure of a csr_matrix is expensive. lil and dok are more efficient.\n",
            "  self._set_intXint(row, col, x.flat[0])\n",
            "/usr/local/lib/python3.11/dist-packages/scipy/sparse/_index.py:168: SparseEfficiencyWarning: Changing the sparsity structure of a csr_matrix is expensive. lil and dok are more efficient.\n",
            "  self._set_intXint(row, col, x.flat[0])\n",
            "/usr/local/lib/python3.11/dist-packages/scipy/sparse/_index.py:168: SparseEfficiencyWarning: Changing the sparsity structure of a csr_matrix is expensive. lil and dok are more efficient.\n",
            "  self._set_intXint(row, col, x.flat[0])\n",
            "/usr/local/lib/python3.11/dist-packages/scipy/sparse/_index.py:168: SparseEfficiencyWarning: Changing the sparsity structure of a csr_matrix is expensive. lil and dok are more efficient.\n",
            "  self._set_intXint(row, col, x.flat[0])\n",
            "/usr/local/lib/python3.11/dist-packages/scipy/sparse/_index.py:168: SparseEfficiencyWarning: Changing the sparsity structure of a csr_matrix is expensive. lil and dok are more efficient.\n",
            "  self._set_intXint(row, col, x.flat[0])\n",
            "/usr/local/lib/python3.11/dist-packages/scipy/sparse/_index.py:168: SparseEfficiencyWarning: Changing the sparsity structure of a csr_matrix is expensive. lil and dok are more efficient.\n",
            "  self._set_intXint(row, col, x.flat[0])\n",
            "/usr/local/lib/python3.11/dist-packages/scipy/sparse/_index.py:168: SparseEfficiencyWarning: Changing the sparsity structure of a csr_matrix is expensive. lil and dok are more efficient.\n",
            "  self._set_intXint(row, col, x.flat[0])\n",
            "/usr/local/lib/python3.11/dist-packages/scipy/sparse/_index.py:168: SparseEfficiencyWarning: Changing the sparsity structure of a csr_matrix is expensive. lil and dok are more efficient.\n",
            "  self._set_intXint(row, col, x.flat[0])\n",
            "/usr/local/lib/python3.11/dist-packages/scipy/sparse/_index.py:168: SparseEfficiencyWarning: Changing the sparsity structure of a csr_matrix is expensive. lil and dok are more efficient.\n",
            "  self._set_intXint(row, col, x.flat[0])\n",
            "/usr/local/lib/python3.11/dist-packages/scipy/sparse/_index.py:168: SparseEfficiencyWarning: Changing the sparsity structure of a csr_matrix is expensive. lil and dok are more efficient.\n",
            "  self._set_intXint(row, col, x.flat[0])\n",
            "/usr/local/lib/python3.11/dist-packages/scipy/sparse/_index.py:168: SparseEfficiencyWarning: Changing the sparsity structure of a csr_matrix is expensive. lil and dok are more efficient.\n",
            "  self._set_intXint(row, col, x.flat[0])\n",
            "/usr/local/lib/python3.11/dist-packages/scipy/sparse/_index.py:168: SparseEfficiencyWarning: Changing the sparsity structure of a csr_matrix is expensive. lil and dok are more efficient.\n",
            "  self._set_intXint(row, col, x.flat[0])\n",
            "/usr/local/lib/python3.11/dist-packages/scipy/sparse/_index.py:168: SparseEfficiencyWarning: Changing the sparsity structure of a csr_matrix is expensive. lil and dok are more efficient.\n",
            "  self._set_intXint(row, col, x.flat[0])\n",
            "/usr/local/lib/python3.11/dist-packages/scipy/sparse/_index.py:168: SparseEfficiencyWarning: Changing the sparsity structure of a csr_matrix is expensive. lil and dok are more efficient.\n",
            "  self._set_intXint(row, col, x.flat[0])\n",
            "/usr/local/lib/python3.11/dist-packages/scipy/sparse/_index.py:168: SparseEfficiencyWarning: Changing the sparsity structure of a csr_matrix is expensive. lil and dok are more efficient.\n",
            "  self._set_intXint(row, col, x.flat[0])\n",
            "/usr/local/lib/python3.11/dist-packages/scipy/sparse/_index.py:168: SparseEfficiencyWarning: Changing the sparsity structure of a csr_matrix is expensive. lil and dok are more efficient.\n",
            "  self._set_intXint(row, col, x.flat[0])\n",
            "/usr/local/lib/python3.11/dist-packages/scipy/sparse/_index.py:168: SparseEfficiencyWarning: Changing the sparsity structure of a csr_matrix is expensive. lil and dok are more efficient.\n",
            "  self._set_intXint(row, col, x.flat[0])\n",
            "/usr/local/lib/python3.11/dist-packages/scipy/sparse/_index.py:168: SparseEfficiencyWarning: Changing the sparsity structure of a csr_matrix is expensive. lil and dok are more efficient.\n",
            "  self._set_intXint(row, col, x.flat[0])\n",
            "/usr/local/lib/python3.11/dist-packages/scipy/sparse/_index.py:168: SparseEfficiencyWarning: Changing the sparsity structure of a csr_matrix is expensive. lil and dok are more efficient.\n",
            "  self._set_intXint(row, col, x.flat[0])\n",
            "/usr/local/lib/python3.11/dist-packages/scipy/sparse/_index.py:168: SparseEfficiencyWarning: Changing the sparsity structure of a csr_matrix is expensive. lil and dok are more efficient.\n",
            "  self._set_intXint(row, col, x.flat[0])\n",
            "/usr/local/lib/python3.11/dist-packages/scipy/sparse/_index.py:168: SparseEfficiencyWarning: Changing the sparsity structure of a csr_matrix is expensive. lil and dok are more efficient.\n",
            "  self._set_intXint(row, col, x.flat[0])\n",
            "/usr/local/lib/python3.11/dist-packages/scipy/sparse/_index.py:168: SparseEfficiencyWarning: Changing the sparsity structure of a csr_matrix is expensive. lil and dok are more efficient.\n",
            "  self._set_intXint(row, col, x.flat[0])\n",
            "/usr/local/lib/python3.11/dist-packages/scipy/sparse/_index.py:168: SparseEfficiencyWarning: Changing the sparsity structure of a csr_matrix is expensive. lil and dok are more efficient.\n",
            "  self._set_intXint(row, col, x.flat[0])\n",
            "/usr/local/lib/python3.11/dist-packages/scipy/sparse/_index.py:168: SparseEfficiencyWarning: Changing the sparsity structure of a csr_matrix is expensive. lil and dok are more efficient.\n",
            "  self._set_intXint(row, col, x.flat[0])\n",
            "/usr/local/lib/python3.11/dist-packages/scipy/sparse/_index.py:168: SparseEfficiencyWarning: Changing the sparsity structure of a csr_matrix is expensive. lil and dok are more efficient.\n",
            "  self._set_intXint(row, col, x.flat[0])\n",
            "/usr/local/lib/python3.11/dist-packages/scipy/sparse/_index.py:168: SparseEfficiencyWarning: Changing the sparsity structure of a csr_matrix is expensive. lil and dok are more efficient.\n",
            "  self._set_intXint(row, col, x.flat[0])\n",
            "/usr/local/lib/python3.11/dist-packages/scipy/sparse/_index.py:168: SparseEfficiencyWarning: Changing the sparsity structure of a csr_matrix is expensive. lil and dok are more efficient.\n",
            "  self._set_intXint(row, col, x.flat[0])\n",
            "/usr/local/lib/python3.11/dist-packages/scipy/sparse/_index.py:168: SparseEfficiencyWarning: Changing the sparsity structure of a csr_matrix is expensive. lil and dok are more efficient.\n",
            "  self._set_intXint(row, col, x.flat[0])\n",
            "/usr/local/lib/python3.11/dist-packages/scipy/sparse/_index.py:168: SparseEfficiencyWarning: Changing the sparsity structure of a csr_matrix is expensive. lil and dok are more efficient.\n",
            "  self._set_intXint(row, col, x.flat[0])\n",
            "/usr/local/lib/python3.11/dist-packages/scipy/sparse/_index.py:168: SparseEfficiencyWarning: Changing the sparsity structure of a csr_matrix is expensive. lil and dok are more efficient.\n",
            "  self._set_intXint(row, col, x.flat[0])\n",
            "/usr/local/lib/python3.11/dist-packages/scipy/sparse/_index.py:168: SparseEfficiencyWarning: Changing the sparsity structure of a csr_matrix is expensive. lil and dok are more efficient.\n",
            "  self._set_intXint(row, col, x.flat[0])\n",
            "/usr/local/lib/python3.11/dist-packages/scipy/sparse/_index.py:168: SparseEfficiencyWarning: Changing the sparsity structure of a csr_matrix is expensive. lil and dok are more efficient.\n",
            "  self._set_intXint(row, col, x.flat[0])\n",
            "/usr/local/lib/python3.11/dist-packages/scipy/sparse/_index.py:168: SparseEfficiencyWarning: Changing the sparsity structure of a csr_matrix is expensive. lil and dok are more efficient.\n",
            "  self._set_intXint(row, col, x.flat[0])\n",
            "/usr/local/lib/python3.11/dist-packages/scipy/sparse/_index.py:168: SparseEfficiencyWarning: Changing the sparsity structure of a csr_matrix is expensive. lil and dok are more efficient.\n",
            "  self._set_intXint(row, col, x.flat[0])\n",
            "/usr/local/lib/python3.11/dist-packages/scipy/sparse/_index.py:168: SparseEfficiencyWarning: Changing the sparsity structure of a csr_matrix is expensive. lil and dok are more efficient.\n",
            "  self._set_intXint(row, col, x.flat[0])\n",
            "/usr/local/lib/python3.11/dist-packages/scipy/sparse/_index.py:168: SparseEfficiencyWarning: Changing the sparsity structure of a csr_matrix is expensive. lil and dok are more efficient.\n",
            "  self._set_intXint(row, col, x.flat[0])\n",
            "/usr/local/lib/python3.11/dist-packages/scipy/sparse/_index.py:168: SparseEfficiencyWarning: Changing the sparsity structure of a csr_matrix is expensive. lil and dok are more efficient.\n",
            "  self._set_intXint(row, col, x.flat[0])\n",
            "/usr/local/lib/python3.11/dist-packages/scipy/sparse/_index.py:168: SparseEfficiencyWarning: Changing the sparsity structure of a csr_matrix is expensive. lil and dok are more efficient.\n",
            "  self._set_intXint(row, col, x.flat[0])\n",
            "/usr/local/lib/python3.11/dist-packages/scipy/sparse/_index.py:168: SparseEfficiencyWarning: Changing the sparsity structure of a csr_matrix is expensive. lil and dok are more efficient.\n",
            "  self._set_intXint(row, col, x.flat[0])\n",
            "/usr/local/lib/python3.11/dist-packages/scipy/sparse/_index.py:168: SparseEfficiencyWarning: Changing the sparsity structure of a csr_matrix is expensive. lil and dok are more efficient.\n",
            "  self._set_intXint(row, col, x.flat[0])\n",
            "/usr/local/lib/python3.11/dist-packages/scipy/sparse/_index.py:168: SparseEfficiencyWarning: Changing the sparsity structure of a csr_matrix is expensive. lil and dok are more efficient.\n",
            "  self._set_intXint(row, col, x.flat[0])\n",
            "/usr/local/lib/python3.11/dist-packages/scipy/sparse/_index.py:168: SparseEfficiencyWarning: Changing the sparsity structure of a csr_matrix is expensive. lil and dok are more efficient.\n",
            "  self._set_intXint(row, col, x.flat[0])\n",
            "/usr/local/lib/python3.11/dist-packages/scipy/sparse/_index.py:168: SparseEfficiencyWarning: Changing the sparsity structure of a csr_matrix is expensive. lil and dok are more efficient.\n",
            "  self._set_intXint(row, col, x.flat[0])\n",
            "/usr/local/lib/python3.11/dist-packages/scipy/sparse/_index.py:168: SparseEfficiencyWarning: Changing the sparsity structure of a csr_matrix is expensive. lil and dok are more efficient.\n",
            "  self._set_intXint(row, col, x.flat[0])\n",
            "/usr/local/lib/python3.11/dist-packages/scipy/sparse/_index.py:168: SparseEfficiencyWarning: Changing the sparsity structure of a csr_matrix is expensive. lil and dok are more efficient.\n",
            "  self._set_intXint(row, col, x.flat[0])\n",
            "/usr/local/lib/python3.11/dist-packages/scipy/sparse/_index.py:168: SparseEfficiencyWarning: Changing the sparsity structure of a csr_matrix is expensive. lil and dok are more efficient.\n",
            "  self._set_intXint(row, col, x.flat[0])\n",
            "/usr/local/lib/python3.11/dist-packages/scipy/sparse/_index.py:168: SparseEfficiencyWarning: Changing the sparsity structure of a csr_matrix is expensive. lil and dok are more efficient.\n",
            "  self._set_intXint(row, col, x.flat[0])\n",
            "/usr/local/lib/python3.11/dist-packages/scipy/sparse/_index.py:168: SparseEfficiencyWarning: Changing the sparsity structure of a csr_matrix is expensive. lil and dok are more efficient.\n",
            "  self._set_intXint(row, col, x.flat[0])\n",
            "/usr/local/lib/python3.11/dist-packages/scipy/sparse/_index.py:168: SparseEfficiencyWarning: Changing the sparsity structure of a csr_matrix is expensive. lil and dok are more efficient.\n",
            "  self._set_intXint(row, col, x.flat[0])\n",
            "/usr/local/lib/python3.11/dist-packages/scipy/sparse/_index.py:168: SparseEfficiencyWarning: Changing the sparsity structure of a csr_matrix is expensive. lil and dok are more efficient.\n",
            "  self._set_intXint(row, col, x.flat[0])\n",
            "/usr/local/lib/python3.11/dist-packages/scipy/sparse/_index.py:168: SparseEfficiencyWarning: Changing the sparsity structure of a csr_matrix is expensive. lil and dok are more efficient.\n",
            "  self._set_intXint(row, col, x.flat[0])\n",
            "/usr/local/lib/python3.11/dist-packages/scipy/sparse/_index.py:168: SparseEfficiencyWarning: Changing the sparsity structure of a csr_matrix is expensive. lil and dok are more efficient.\n",
            "  self._set_intXint(row, col, x.flat[0])\n",
            "/usr/local/lib/python3.11/dist-packages/scipy/sparse/_index.py:168: SparseEfficiencyWarning: Changing the sparsity structure of a csr_matrix is expensive. lil and dok are more efficient.\n",
            "  self._set_intXint(row, col, x.flat[0])\n",
            "/usr/local/lib/python3.11/dist-packages/scipy/sparse/_index.py:168: SparseEfficiencyWarning: Changing the sparsity structure of a csr_matrix is expensive. lil and dok are more efficient.\n",
            "  self._set_intXint(row, col, x.flat[0])\n",
            "/usr/local/lib/python3.11/dist-packages/scipy/sparse/_index.py:168: SparseEfficiencyWarning: Changing the sparsity structure of a csr_matrix is expensive. lil and dok are more efficient.\n",
            "  self._set_intXint(row, col, x.flat[0])\n",
            "/usr/local/lib/python3.11/dist-packages/scipy/sparse/_index.py:168: SparseEfficiencyWarning: Changing the sparsity structure of a csr_matrix is expensive. lil and dok are more efficient.\n",
            "  self._set_intXint(row, col, x.flat[0])\n",
            "/usr/local/lib/python3.11/dist-packages/scipy/sparse/_index.py:168: SparseEfficiencyWarning: Changing the sparsity structure of a csr_matrix is expensive. lil and dok are more efficient.\n",
            "  self._set_intXint(row, col, x.flat[0])\n",
            "/usr/local/lib/python3.11/dist-packages/scipy/sparse/_index.py:168: SparseEfficiencyWarning: Changing the sparsity structure of a csr_matrix is expensive. lil and dok are more efficient.\n",
            "  self._set_intXint(row, col, x.flat[0])\n",
            "/usr/local/lib/python3.11/dist-packages/scipy/sparse/_index.py:168: SparseEfficiencyWarning: Changing the sparsity structure of a csr_matrix is expensive. lil and dok are more efficient.\n",
            "  self._set_intXint(row, col, x.flat[0])\n",
            "/usr/local/lib/python3.11/dist-packages/scipy/sparse/_index.py:168: SparseEfficiencyWarning: Changing the sparsity structure of a csr_matrix is expensive. lil and dok are more efficient.\n",
            "  self._set_intXint(row, col, x.flat[0])\n",
            "/usr/local/lib/python3.11/dist-packages/scipy/sparse/_index.py:168: SparseEfficiencyWarning: Changing the sparsity structure of a csr_matrix is expensive. lil and dok are more efficient.\n",
            "  self._set_intXint(row, col, x.flat[0])\n",
            "/usr/local/lib/python3.11/dist-packages/scipy/sparse/_index.py:168: SparseEfficiencyWarning: Changing the sparsity structure of a csr_matrix is expensive. lil and dok are more efficient.\n",
            "  self._set_intXint(row, col, x.flat[0])\n",
            "/usr/local/lib/python3.11/dist-packages/scipy/sparse/_index.py:168: SparseEfficiencyWarning: Changing the sparsity structure of a csr_matrix is expensive. lil and dok are more efficient.\n",
            "  self._set_intXint(row, col, x.flat[0])\n",
            "/usr/local/lib/python3.11/dist-packages/scipy/sparse/_index.py:168: SparseEfficiencyWarning: Changing the sparsity structure of a csr_matrix is expensive. lil and dok are more efficient.\n",
            "  self._set_intXint(row, col, x.flat[0])\n",
            "/usr/local/lib/python3.11/dist-packages/scipy/sparse/_index.py:168: SparseEfficiencyWarning: Changing the sparsity structure of a csr_matrix is expensive. lil and dok are more efficient.\n",
            "  self._set_intXint(row, col, x.flat[0])\n",
            "/usr/local/lib/python3.11/dist-packages/scipy/sparse/_index.py:168: SparseEfficiencyWarning: Changing the sparsity structure of a csr_matrix is expensive. lil and dok are more efficient.\n",
            "  self._set_intXint(row, col, x.flat[0])\n",
            "/usr/local/lib/python3.11/dist-packages/scipy/sparse/_index.py:168: SparseEfficiencyWarning: Changing the sparsity structure of a csr_matrix is expensive. lil and dok are more efficient.\n",
            "  self._set_intXint(row, col, x.flat[0])\n"
          ]
        },
        {
          "output_type": "stream",
          "name": "stdout",
          "text": [
            "Precision@30: 0.8179\n"
          ]
        },
        {
          "output_type": "stream",
          "name": "stderr",
          "text": [
            "/usr/local/lib/python3.11/dist-packages/scipy/sparse/_index.py:168: SparseEfficiencyWarning: Changing the sparsity structure of a csr_matrix is expensive. lil and dok are more efficient.\n",
            "  self._set_intXint(row, col, x.flat[0])\n"
          ]
        }
      ]
    },
    {
      "cell_type": "markdown",
      "metadata": {
        "id": "vuAXESRSaJe_"
      },
      "source": [
        "# Dump and save the model"
      ]
    },
    {
      "cell_type": "code",
      "execution_count": null,
      "metadata": {
        "id": "1354c719"
      },
      "outputs": [],
      "source": [
        "import joblib\n",
        "import scipy.sparse as sp\n",
        "import numpy as np\n",
        "\n",
        "# Save the trained model\n",
        "joblib.dump(model, 'trained_model.pkl')\n",
        "\n",
        "# Save the training adjacency matrix\n",
        "sp.save_npz('adj_train.npz', adj_train)\n",
        "\n",
        "# Save the user features\n",
        "sp.save_npz('u_features.npz', u_features)\n",
        "\n",
        "# Save the item features\n",
        "sp.save_npz('v_features.npz', v_features)\n",
        "\n",
        "# Save the dataset object\n",
        "joblib.dump(dataset, 'dataset.pkl')\n",
        "\n",
        "# Save the class values\n",
        "np.save('class_values.npy', class_values)"
      ]
    },
    {
      "cell_type": "code",
      "execution_count": null,
      "metadata": {
        "colab": {
          "base_uri": "https://localhost:8080/"
        },
        "id": "2ceUZJaoc3wf",
        "outputId": "237c4bf7-0e35-408b-8359-04f9b02f7b3d"
      },
      "outputs": [
        {
          "name": "stdout",
          "output_type": "stream",
          "text": [
            "Recommendations for user 1:\n",
            "- L.A. Confidential (1997)\n",
            "- Close Shave, A (1995)\n",
            "- Trainspotting (1996)\n",
            "- Casablanca (1942)\n",
            "- Maltese Falcon, The (1941)\n",
            "- Sunset Blvd. (1950)\n",
            "- To Catch a Thief (1955)\n",
            "- East of Eden (1955)\n",
            "- Treasure of the Sierra Madre, The (1948)\n",
            "- Big Sleep, The (1946)\n"
          ]
        }
      ],
      "source": [
        "import joblib\n",
        "import scipy.sparse as sp\n",
        "import numpy as np\n",
        "import torch\n",
        "from torch_geometric.data import Data, Dataset, InMemoryDataset, DataLoader\n",
        "import torch.nn as nn\n",
        "from torch.nn import Linear\n",
        "from torch_geometric.nn import GCNConv, RGCNConv, global_sort_pool, global_add_pool\n",
        "from torch_geometric.utils import dropout_adj, dropout_edge\n",
        "import torch.nn.functional as F\n",
        "import time\n",
        "import random\n",
        "import os\n",
        "import multiprocessing as mp\n",
        "from tqdm import tqdm\n",
        "\n",
        "def subgraph_extraction_labeling(ind, Arow, Acol, h=1, sample_ratio=1.0,\n",
        "                                 max_nodes_per_hop = None, u_features = None,\n",
        "                                 v_features = None, class_values = None, y =1):\n",
        "  # extract the h-hop enclosing subgraph around link 'ind'\n",
        "  u_nodes, v_nodes = [ind[0]], [ind[1]]\n",
        "  u_dist, v_dist = [0], [0]\n",
        "  u_visited, v_visited = set([ind[0]]), set([ind[1]])\n",
        "  u_fringe, v_fringe = set([ind[0]]), set([ind[1]])\n",
        "  for dist in range(1, h+1):\n",
        "    v_fringe, u_fringe = neighbors(u_fringe, Arow), neighbors(v_fringe, Acol)\n",
        "    u_fringe = u_fringe - u_visited\n",
        "    v_fringe = v_fringe - v_visited\n",
        "    u_visited = u_visited.union(u_fringe)\n",
        "    v_visited = v_visited.union(v_fringe)\n",
        "    if sample_ratio < 1.0:\n",
        "      u_fringe = random.sample(list(u_fringe), int(sample_ratio*len(u_fringe)))\n",
        "      v_fringe = random.sample(list(v_fringe), int(sample_ratio*len(v_fringe)))\n",
        "    if max_nodes_per_hop is not None:\n",
        "      if max_nodes_per_hop < len(u_fringe):\n",
        "        u_fringe = random.sample(list(u_fringe), max_nodes_per_hop)\n",
        "      if max_nodes_per_hop < len(v_fringe):\n",
        "        v_fringe = random.sample(list(v_fringe), max_nodes_per_hop)\n",
        "    if len(u_fringe)  == 0 and len(v_fringe) == 0:\n",
        "      break\n",
        "\n",
        "    u_nodes = u_nodes + list(u_fringe)\n",
        "    v_nodes = v_nodes + list(v_fringe)\n",
        "    u_dist = u_dist + [dist]*len(u_fringe)\n",
        "    v_dist = v_dist + [dist]*len(v_fringe)\n",
        "\n",
        "  subgraph = Arow[u_nodes][:, v_nodes]\n",
        "  # remove link between target nodes\n",
        "  subgraph[0, 0] = 0\n",
        "\n",
        "  # prepare pyg graph constructor input\n",
        "  u, v, r = ssp.find(subgraph) #r is 1, 2,... (rating labels + 1)\n",
        "  v += len(u_nodes)\n",
        "  r = r - 1 # transform r back to rating label\n",
        "  num_nodes = len(u_nodes) + len(v_nodes)\n",
        "  node_labels = [x*2 for x in u_dist] + [x*2+1 for x in v_dist]\n",
        "  max_node_label = 2*h + 1\n",
        "  y = class_values[y]\n",
        "\n",
        "  # get node features\n",
        "  if u_features is not None:\n",
        "    u_features = u_features[u_nodes]\n",
        "  if v_features is not None:\n",
        "    v_features = v_features[v_nodes]\n",
        "  node_features = None\n",
        "\n",
        "  if True:\n",
        "    # only output node features for the target user and item\n",
        "    if u_features is not None and v_features is not None:\n",
        "      # Convert sparse matrices to dense NumPy arrays before returning\n",
        "      node_features = [u_features[0].todense(), v_features[0].todense()]\n",
        "\n",
        "  return u, v, r, node_labels, max_node_label, y, node_features\n",
        "\n",
        "def construct_pyg_graph(u, v, r, node_labels, max_node_label, y, node_features):\n",
        "  u, v = torch.LongTensor(u), torch.LongTensor(v)\n",
        "  r = torch.LongTensor(r)\n",
        "  edge_index = torch.stack([torch.cat([u, v]), torch.cat([v, u])], 0)\n",
        "  edge_type = torch.cat([r, r])\n",
        "  x = torch.FloatTensor(one_hot(node_labels, max_node_label+1))\n",
        "  y = torch.FloatTensor([y])\n",
        "  data = Data(x, edge_index, edge_type = edge_type, y = y)\n",
        "\n",
        "  if node_features is not None:\n",
        "    if type(node_features) == list:\n",
        "      u_feature, v_feature = node_features\n",
        "      data.u_feature = torch.FloatTensor(u_feature).unsqueeze(0)\n",
        "      data.v_feature = torch.FloatTensor(v_feature).unsqueeze(0)\n",
        "    else:\n",
        "      x2 = torch.FloatTensor(node_features)\n",
        "      data.x = torch.cat([data.x, x2], 1)\n",
        "  return data\n",
        "\n",
        "def neighbors(fringe, A):\n",
        "  # find all 1-hop neighbors of nodes in fringe from A\n",
        "  return set(A[list(fringe)].indices)\n",
        "\n",
        "def one_hot(idx, length):\n",
        "  idx = np.array(idx)\n",
        "  x = np.zeros([len(idx), length])\n",
        "  x[np.arange(len(idx)), idx] = 1.0\n",
        "  return x\n",
        "\n",
        "class SparseRowIndexer:\n",
        "  def __init__(self, csr_matrix):\n",
        "    data = []\n",
        "    indices = []\n",
        "    indptr = []\n",
        "\n",
        "    for row_start, row_end in zip(csr_matrix.indptr[:-1], csr_matrix.indptr[1:]):\n",
        "      data.append(csr_matrix.data[row_start:row_end])\n",
        "      indices.append(csr_matrix.indices[row_start:row_end])\n",
        "      indptr.append(row_end - row_start)  #nnz of the row\n",
        "\n",
        "    self.data = np.array(data, dtype = object)\n",
        "    self.indices = np.array(indices, dtype = object)\n",
        "    self.indptr = np.array(indptr, dtype = object)\n",
        "    self.shape = csr_matrix.shape\n",
        "  def __getitem__(self, row_selector):\n",
        "    indices = np.concatenate(self.indices[row_selector])\n",
        "    data = np.concatenate(self.data[row_selector])\n",
        "    indptr = np.append(0, np.cumsum(self.indptr[row_selector]))\n",
        "    shape = [indptr.shape[0] - 1, self.shape[1]]\n",
        "    return ssp.csr_matrix((data, indices, indptr), shape = shape)\n",
        "\n",
        "class SparseColIndexer:\n",
        "  def __init__(self, csc_matrix):\n",
        "    data = []\n",
        "    indices = []\n",
        "    indptr = []\n",
        "\n",
        "    for col_start, col_end in zip(csc_matrix.indptr[:-1], csc_matrix.indptr[1:]):\n",
        "      data.append(csc_matrix.data[col_start:col_end])\n",
        "      indices.append(csc_matrix.data[col_start:col_end])\n",
        "      indptr.append(col_end - col_start)\n",
        "\n",
        "    self.data = np.array(data, dtype = object)\n",
        "    self.indices = np.array(indices, dtype = object)\n",
        "    self.indptr = np.array(indptr, dtype = object)\n",
        "    self.shape = csc_matrix.shape\n",
        "\n",
        "  def __getitem__(self, col_selector):\n",
        "    indices = np.concatenate(self.indices[col_selector])\n",
        "    data = np.concatenate(self.data[col_selector])\n",
        "    indptr = np.append(0, np.cumsum(self.indptr[col_selector]))\n",
        "\n",
        "    shape = [self.shape[0], indptr.shape[0] - 1]\n",
        "    return ssp.csc_matrix((data, indices, indptr), shape = shape)\n",
        "\n",
        "\n",
        "def links2subgraphs(Arow, Acol, links, labels, h=1, sample_ratio = 1.0,\n",
        "                    max_nodes_per_hop = None, u_features = None, v_features = None,\n",
        "                    class_values = None, parallel = True):\n",
        "  print('Enclosing subgraph extraction begins...')\n",
        "  g_list = []\n",
        "  if not parallel:\n",
        "    with tqdm(total = len(links[0])) as pbar:\n",
        "      for i, j, g_label in zip(links[0], links[1], labels):\n",
        "        tmp = subgraph_extraction_labeling((i, j), Arow, Acol, h, sample_ratio,\n",
        "                                           max_nodes_per_hop, u_features, v_features,\n",
        "                                           class_values, g_label)\n",
        "        data = construct_pyg_graph(*tmp)\n",
        "        g_list.append(data)\n",
        "        pbar.update(1)\n",
        "  else:\n",
        "    start = time.time()\n",
        "    pool = mp.Pool(mp.cpu_count())\n",
        "    results = pool.starmap_async(\n",
        "        subgraph_extraction_labeling,\n",
        "        [\n",
        "         ((i,j), Arow, Acol, h, sample_ratio, max_nodes_per_hop, u_features,\n",
        "          v_features, class_values, g_label)\n",
        "         for i, j, g_label in zip(links[0], links[1], labels)\n",
        "        ]\n",
        "    )\n",
        "    remaining = results._number_left\n",
        "    pbar = tqdm(total = remaining)\n",
        "    while True:\n",
        "      pbar.update(remaining - results._number_left)\n",
        "      if results.ready(): break\n",
        "      remaining = results._number_left\n",
        "      time.sleep(1)\n",
        "    results = results.get()\n",
        "    pool.close()\n",
        "    pbar.close()\n",
        "    end = time.time()\n",
        "    print(\"Time elapsed for subgraph extraction: {}s\".format(end-start))\n",
        "    print(\"Tranforming to pytorch_geometric graphs...\")\n",
        "    g_list = []\n",
        "    pbar = tqdm(total = len(results))\n",
        "    while results:\n",
        "      tmp = results.pop()\n",
        "      g_list.append(construct_pyg_graph(*tmp))\n",
        "      pbar.update(1)\n",
        "    pbar.close()\n",
        "    end2 = time.time()\n",
        "    print(\"Time elapsed for transforming to pytorch_geometric graphs: {}s\".format(end2-end))\n",
        "  return g_list\n",
        "\n",
        "\n",
        "class MyDynamicDataset(torch.utils.data.Dataset):\n",
        "  def __init__(self, root, A, links, labels, h, sample_ratio, max_nodes_per_hop,\n",
        "                u_features, v_features, class_values, max_num=None):\n",
        "    super(MyDynamicDataset, self).__init__()\n",
        "    self.Arow = SparseRowIndexer(A)\n",
        "    self.Acol = SparseColIndexer(A.tocsc())\n",
        "    self.links = links\n",
        "    self.labels = labels\n",
        "    self.h = h\n",
        "    self.sample_ratio = sample_ratio\n",
        "    self.max_nodes_per_hop = max_nodes_per_hop\n",
        "    self.u_features = u_features\n",
        "    self.v_features = v_features\n",
        "    self.class_values = class_values\n",
        "    if max_num is not None:\n",
        "      np.random.seed(123)\n",
        "      num_links = len(links[0])\n",
        "      perm = np.random.permutation(num_links)\n",
        "      perm = perm[:max_num]\n",
        "      self.links = (links[0][perm], links[1][perm])\n",
        "      self.labels = labels[perm]\n",
        "\n",
        "  def __len__(self):\n",
        "    return len(self.links[0])\n",
        "\n",
        "  def __getitem__(self, idx):\n",
        "    i, j = self.links[0][idx], self.links[1][idx]\n",
        "    g_label = self.labels[idx]\n",
        "    tmp = subgraph_extraction_labeling(\n",
        "      (i, j), self.Arow, self.Acol, self.h, self.sample_ratio, self.max_nodes_per_hop,\n",
        "      self.u_features, self.v_features, self.class_values, g_label\n",
        "    )\n",
        "    return construct_pyg_graph(*tmp)\n",
        "\n",
        "class GNN(torch.nn.Module):\n",
        "  def __init__(self, dataset, gconv = GCNConv, latent_dim=[32, 32, 32, 1],\n",
        "               regression = False, adj_dropout = 0.2,\n",
        "               force_undirected = False):\n",
        "    super(GNN, self).__init__()\n",
        "    self.regression = regression\n",
        "    self.adj_dropout = adj_dropout\n",
        "    self.force_undirected = force_undirected\n",
        "    self.convs = torch.nn.ModuleList()\n",
        "    self.convs.append(gconv(4, latent_dim[0]))\n",
        "    for i in range(0, len(latent_dim)-1):\n",
        "      self.convs.append(gconv(latent_dim[i], latent_dim[i+1]))\n",
        "    self.lin1 = Linear(sum(latent_dim), 128)\n",
        "    if self.regression:\n",
        "      self.lin2 = Linear(128, 1)\n",
        "    else:\n",
        "      self.lin2 = Linear(128, dataset.num_classes)\n",
        "\n",
        "  def reset_parameters(self):\n",
        "    for conv in self.convs:\n",
        "      conv.reset_parameters()\n",
        "    self.lin1.reset_parameters()\n",
        "    self.lin2.reset_parameters()\n",
        "\n",
        "  def forward(self, data):\n",
        "    x, edge_index, batch = data.x, data.edge_index, data.batch\n",
        "    if self.adj_dropout > 0:\n",
        "      edge_index, edge_type = dropout_adj(edge_index, edge_type, p=self.adj_dropout,\n",
        "                                          force_undirected=self.force_undirected,\n",
        "                                          num_nodes=len(x), training=self.training\n",
        "        )\n",
        "    concat_states = []\n",
        "    for conv in self.convs:\n",
        "      x = torch.tanh(conv(x, edge_index))\n",
        "      concat_states.append(x)\n",
        "    concat_states = torch.cat(concat_states, 1)\n",
        "    x = global_add_pool(concat_states, batch)\n",
        "    x = F.relu(self.lin1(x))\n",
        "    x = F.dropout(x, p=0.5, training=self.training)\n",
        "    x = self.lin2(x)\n",
        "    if self.regression:\n",
        "      return x[:, 0]\n",
        "    else:\n",
        "      return F.log_softmax(x, dim=-1)\n",
        "\n",
        "  def __repr__(self):\n",
        "    return self.__class__.__name__\n",
        "\n",
        "\n",
        "class IGMC(GNN):\n",
        "  def __init__(self, dataset, gconv=RGCNConv, latent_dim=[32, 32, 32, 32],\n",
        "               num_relations=5, num_bases=2, regression=False, adj_dropout=0.2,\n",
        "               force_undirected=False, side_features=False, n_side_features=0,\n",
        "               multiply_by=1):\n",
        "    super(IGMC, self).__init__(dataset, GCNConv, latent_dim,\n",
        "                               regression, adj_dropout, force_undirected\n",
        "    )\n",
        "    self.multiply_by = multiply_by\n",
        "    self.convs = torch.nn.ModuleList()\n",
        "    self.convs.append(gconv(4, latent_dim[0], num_relations, num_bases))\n",
        "    for i in range(0, len(latent_dim)-1):\n",
        "      self.convs.append(gconv(latent_dim[i], latent_dim[i+1], num_relations, num_bases))\n",
        "    self.lin1 = Linear(2*sum(latent_dim), 128)\n",
        "    self.side_features = side_features\n",
        "    if side_features:\n",
        "      self.lin1 = Linear(2*sum(latent_dim)+n_side_features, 128)\n",
        "\n",
        "  def forward(self, data):\n",
        "    x, edge_index, edge_type, batch = data.x, data.edge_index, data.edge_type, data.batch\n",
        "    if self.adj_dropout > 0:\n",
        "      edge_index, edge_mask = dropout_edge(edge_index, p=self.adj_dropout,\n",
        "                                           force_undirected=self.force_undirected,\n",
        "                                           training=self.training)\n",
        "      edge_type = data.edge_type[edge_mask]\n",
        "    concat_states = []\n",
        "    for conv in self.convs:\n",
        "      x = torch.tanh(conv(x, edge_index, edge_type))\n",
        "      concat_states.append(x)\n",
        "    concat_states = torch.cat(concat_states, 1)\n",
        "\n",
        "    users = data.x[:, 0] == 1\n",
        "    items = data.x[:, 1] == 1\n",
        "    x = torch.cat([concat_states[users], concat_states[items]], 1)\n",
        "    if self.side_features:\n",
        "      x = torch.cat([x, data.u_feature, data.v_feature], 1)\n",
        "\n",
        "    x = F.relu(self.lin1(x))\n",
        "    x = F.dropout(x, p=0.5, training=self.training)\n",
        "    x = self.lin2(x)\n",
        "    if self.regression:\n",
        "      return x[:, 0] * self.multiply_by\n",
        "    else:\n",
        "      return F.log_softmax(x, dim=-1)\n",
        "\n",
        "def map_data(data):\n",
        "  uniq = list(set(data))\n",
        "  id_dict = {old: new for new, old in enumerate(sorted(uniq))}\n",
        "  data = np.array([id_dict[x] for x in data])\n",
        "  n = len(uniq)\n",
        "\n",
        "  return data, id_dict, n\n",
        "\n",
        "def get_user_recommendations(user_id, model, dataset, adj_matrix, u_features, v_features, class_values, h=1, sample_ratio=1.0, max_nodes_per_hop=100):\n",
        "  # Map the original user ID to the internal ID used in the model\n",
        "  data_array = dataset.ratings_df.values.tolist()\n",
        "  u_nodes_ratings = np.array(data_array)[:, 0].astype(np.int32)\n",
        "  _, u_dict, _ = map_data(u_nodes_ratings)\n",
        "\n",
        "  if user_id not in u_dict:\n",
        "    print(f\"User ID {user_id} not found in the dataset.\")\n",
        "    return []\n",
        "\n",
        "  internal_user_id = u_dict[user_id]\n",
        "\n",
        "  # Get all movies the user has NOT rated\n",
        "  rated_movies = dataset.ratings_df[dataset.ratings_df['u_nodes'] == user_id]['v_nodes'].values.tolist()\n",
        "  all_movie_ids = dataset.movies_df['movie id'].values.tolist()\n",
        "  unrated_movie_ids = [movie_id for movie_id in all_movie_ids if movie_id not in rated_movies]\n",
        "\n",
        "  # Map original unrated movie IDs to internal IDs\n",
        "  data_array = dataset.ratings_df.values.tolist()\n",
        "  v_nodes_ratings = np.array(data_array)[:, 1].astype(np.int32)\n",
        "  _, v_dict, _ = map_data(v_nodes_ratings)\n",
        "\n",
        "  internal_unrated_movie_ids = [v_dict[movie_id] for movie_id in unrated_movie_ids if movie_id in v_dict]\n",
        "  original_unrated_movie_ids = [movie_id for movie_id in unrated_movie_ids if movie_id in v_dict] # Keep track of original IDs\n",
        "\n",
        "\n",
        "  if not internal_unrated_movie_ids:\n",
        "    print(f\"User ID {user_id} has rated all movies or no unrated movies found in the dataset.\")\n",
        "    return []\n",
        "\n",
        "  # Create link indices and dummy labels for the unrated movies\n",
        "  links_to_predict = (np.array([internal_user_id] * len(internal_unrated_movie_ids)), np.array(internal_unrated_movie_ids))\n",
        "  dummy_labels = np.zeros(len(internal_unrated_movie_ids), dtype=np.int32) # Labels don't matter for prediction\n",
        "\n",
        "  dummy_root = 'ml-1m/predict_temp'\n",
        "  os.makedirs(dummy_root, exist_ok=True)\n",
        "\n",
        "  predict_dataset = MyDynamicDataset(\n",
        "      root=dummy_root,\n",
        "      A=adj_matrix,\n",
        "      links=links_to_predict,\n",
        "      labels=dummy_labels,\n",
        "      h=h,\n",
        "      sample_ratio=sample_ratio,\n",
        "      max_nodes_per_hop=max_nodes_per_hop,\n",
        "      u_features=u_features,\n",
        "      v_features=v_features,\n",
        "      class_values=class_values,\n",
        "      max_num=None\n",
        "  )\n",
        "\n",
        "  predict_loader = DataLoader(predict_dataset, batch_size=50, shuffle=False, num_workers=2)\n",
        "\n",
        "  model.eval()\n",
        "  predictions = []\n",
        "  with torch.no_grad():\n",
        "    for data in predict_loader:\n",
        "      data = data.to(device)\n",
        "      out = model(data)\n",
        "      predictions.extend(out.cpu().numpy())\n",
        "\n",
        "  predicted_ratings = np.array(predictions)\n",
        "  sorted_movie_indices = np.argsort(predicted_ratings)[::-1]\n",
        "\n",
        "  top_movie_internal_ids = np.array(internal_unrated_movie_ids)[sorted_movie_indices[:top_k]]\n",
        "  top_movie_original_ids = [original_unrated_movie_ids[internal_unrated_movie_ids.index(internal_id)] for internal_id in top_movie_internal_ids]\n",
        "\n",
        "  recommended_movie_titles = loaded_dataset.movies_df[loaded_dataset.movies_df['movie id'].isin(top_movie_original_ids)]['movie title'].values.tolist()\n",
        "\n",
        "  return recommended_movie_titles"
      ]
    },
    {
      "cell_type": "code",
      "execution_count": null,
      "metadata": {
        "id": "RmF8GYfYhEds"
      },
      "outputs": [],
      "source": [
        "loaded_model = joblib.load('trained_model.pkl')\n",
        "loaded_adj_train = sp.load_npz('adj_train.npz')\n",
        "loaded_u_features = sp.load_npz('u_features.npz')\n",
        "loaded_v_features = sp.load_npz('v_features.npz')\n",
        "loaded_dataset = joblib.load('dataset.pkl')\n",
        "loaded_class_values = np.load('class_values.npy')\n",
        "\n",
        "device = torch.device('cuda' if torch.cuda.is_available() else 'cpu')\n",
        "loaded_model.to(device)\n",
        "\n",
        "user_id_to_recommend = 1\n",
        "recommendations = get_user_recommendations(\n",
        "    user_id_to_recommend,\n",
        "    device,\n",
        "    loaded_model,\n",
        "    loaded_dataset,\n",
        "    loaded_adj_train,\n",
        "    loaded_u_features,\n",
        "    loaded_v_features,\n",
        "    loaded_class_values\n",
        ")\n",
        "\n",
        "print(f\"Recommendations for user {user_id_to_recommend}:\")\n",
        "for movie_title in recommendations:\n",
        "  print(f\"- {movie_title}\")"
      ]
    },
    {
      "cell_type": "code",
      "metadata": {
        "id": "f71133a9"
      },
      "source": [],
      "execution_count": 6,
      "outputs": []
    }
  ],
  "metadata": {
    "colab": {
      "provenance": [],
      "mount_file_id": "1qZK7eYqbHjHTpkmqOPZgRMI1GYBVGupu",
      "authorship_tag": "ABX9TyNZf7nRjUIweibIcLSimY2f",
      "include_colab_link": true
    },
    "kernelspec": {
      "display_name": "Python 3",
      "name": "python3"
    },
    "language_info": {
      "name": "python"
    }
  },
  "nbformat": 4,
  "nbformat_minor": 0
}